{
  "nbformat": 4,
  "nbformat_minor": 0,
  "metadata": {
    "colab": {
      "name": "Demand Forecasting.ipynb",
      "provenance": []
    },
    "kernelspec": {
      "name": "python3",
      "display_name": "Python 3"
    }
  },
  "cells": [
    {
      "cell_type": "code",
      "metadata": {
        "colab": {
          "base_uri": "https://localhost:8080/"
        },
        "id": "nJYHlhu8uJNl",
        "outputId": "20234014-3153-4a0a-f9e6-f83daf32d610"
      },
      "source": [
        "import numpy as np # linear algebra\n",
        "import pandas as pd # data processing, CSV file I/O (e.g. pd.read_csv)\n",
        "import pandas as pd\n",
        "import numpy as np\n",
        "import matplotlib.pyplot as plt\n",
        "import statsmodels.api as sm\n",
        "import itertools\n",
        "from sklearn import svm\n",
        "from sklearn.model_selection import train_test_split\n",
        "from sklearn.metrics import r2_score, mean_squared_error, mean_absolute_error, median_absolute_error, explained_variance_score, max_error"
      ],
      "execution_count": null,
      "outputs": [
        {
          "output_type": "stream",
          "text": [
            "/usr/local/lib/python3.6/dist-packages/statsmodels/tools/_testing.py:19: FutureWarning: pandas.util.testing is deprecated. Use the functions in the public API at pandas.testing instead.\n",
            "  import pandas.util.testing as tm\n"
          ],
          "name": "stderr"
        }
      ]
    },
    {
      "cell_type": "code",
      "metadata": {
        "colab": {
          "base_uri": "https://localhost:8080/"
        },
        "id": "Hp3UWsZ-uUAw",
        "outputId": "4624f821-ba89-40cd-efe3-dc1d09483a3c"
      },
      "source": [
        "from google.colab import drive\n",
        "drive.mount('/content/gdrive')"
      ],
      "execution_count": null,
      "outputs": [
        {
          "output_type": "stream",
          "text": [
            "Mounted at /content/gdrive\n"
          ],
          "name": "stdout"
        }
      ]
    },
    {
      "cell_type": "code",
      "metadata": {
        "id": "Kv15mL_TuXA6"
      },
      "source": [
        "db1=pd.read_csv(\"/content/gdrive/My Drive/Colab Notebooks/input/olist_order_items_dataset.csv\",sep=\",\")\n",
        "db2=pd.read_csv(\"/content/gdrive/My Drive/Colab Notebooks/input/olist_orders_dataset.csv\",sep=\",\")\n",
        "db3=pd.read_csv(\"/content/gdrive/My Drive/Colab Notebooks/input/olist_products_dataset.csv\",sep=\",\")"
      ],
      "execution_count": null,
      "outputs": []
    },
    {
      "cell_type": "code",
      "metadata": {
        "id": "tx2MrJ-Wx2NJ"
      },
      "source": [
        "db1=db1.iloc[:,[0,1,2]]"
      ],
      "execution_count": null,
      "outputs": []
    },
    {
      "cell_type": "code",
      "metadata": {
        "colab": {
          "base_uri": "https://localhost:8080/",
          "height": 206
        },
        "id": "uf2xULHq3io1",
        "outputId": "603f2d41-45b1-44f7-d130-1819338676a7"
      },
      "source": [
        "db1.head()"
      ],
      "execution_count": null,
      "outputs": [
        {
          "output_type": "execute_result",
          "data": {
            "text/html": [
              "<div>\n",
              "<style scoped>\n",
              "    .dataframe tbody tr th:only-of-type {\n",
              "        vertical-align: middle;\n",
              "    }\n",
              "\n",
              "    .dataframe tbody tr th {\n",
              "        vertical-align: top;\n",
              "    }\n",
              "\n",
              "    .dataframe thead th {\n",
              "        text-align: right;\n",
              "    }\n",
              "</style>\n",
              "<table border=\"1\" class=\"dataframe\">\n",
              "  <thead>\n",
              "    <tr style=\"text-align: right;\">\n",
              "      <th></th>\n",
              "      <th>order_id</th>\n",
              "      <th>order_item_id</th>\n",
              "      <th>product_id</th>\n",
              "    </tr>\n",
              "  </thead>\n",
              "  <tbody>\n",
              "    <tr>\n",
              "      <th>0</th>\n",
              "      <td>00010242fe8c5a6d1ba2dd792cb16214</td>\n",
              "      <td>1</td>\n",
              "      <td>4244733e06e7ecb4970a6e2683c13e61</td>\n",
              "    </tr>\n",
              "    <tr>\n",
              "      <th>1</th>\n",
              "      <td>00018f77f2f0320c557190d7a144bdd3</td>\n",
              "      <td>1</td>\n",
              "      <td>e5f2d52b802189ee658865ca93d83a8f</td>\n",
              "    </tr>\n",
              "    <tr>\n",
              "      <th>2</th>\n",
              "      <td>000229ec398224ef6ca0657da4fc703e</td>\n",
              "      <td>1</td>\n",
              "      <td>c777355d18b72b67abbeef9df44fd0fd</td>\n",
              "    </tr>\n",
              "    <tr>\n",
              "      <th>3</th>\n",
              "      <td>00024acbcdf0a6daa1e931b038114c75</td>\n",
              "      <td>1</td>\n",
              "      <td>7634da152a4610f1595efa32f14722fc</td>\n",
              "    </tr>\n",
              "    <tr>\n",
              "      <th>4</th>\n",
              "      <td>00042b26cf59d7ce69dfabb4e55b4fd9</td>\n",
              "      <td>1</td>\n",
              "      <td>ac6c3623068f30de03045865e4e10089</td>\n",
              "    </tr>\n",
              "  </tbody>\n",
              "</table>\n",
              "</div>"
            ],
            "text/plain": [
              "                           order_id  ...                        product_id\n",
              "0  00010242fe8c5a6d1ba2dd792cb16214  ...  4244733e06e7ecb4970a6e2683c13e61\n",
              "1  00018f77f2f0320c557190d7a144bdd3  ...  e5f2d52b802189ee658865ca93d83a8f\n",
              "2  000229ec398224ef6ca0657da4fc703e  ...  c777355d18b72b67abbeef9df44fd0fd\n",
              "3  00024acbcdf0a6daa1e931b038114c75  ...  7634da152a4610f1595efa32f14722fc\n",
              "4  00042b26cf59d7ce69dfabb4e55b4fd9  ...  ac6c3623068f30de03045865e4e10089\n",
              "\n",
              "[5 rows x 3 columns]"
            ]
          },
          "metadata": {
            "tags": []
          },
          "execution_count": 8
        }
      ]
    },
    {
      "cell_type": "code",
      "metadata": {
        "colab": {
          "base_uri": "https://localhost:8080/",
          "height": 206
        },
        "id": "Ybk1-CM0zN9z",
        "outputId": "3d6f582c-dc51-4a12-e124-4f867e18ec6b"
      },
      "source": [
        "db2=db2.iloc[:,[0,3]]\n",
        "db2.head()"
      ],
      "execution_count": null,
      "outputs": [
        {
          "output_type": "execute_result",
          "data": {
            "text/html": [
              "<div>\n",
              "<style scoped>\n",
              "    .dataframe tbody tr th:only-of-type {\n",
              "        vertical-align: middle;\n",
              "    }\n",
              "\n",
              "    .dataframe tbody tr th {\n",
              "        vertical-align: top;\n",
              "    }\n",
              "\n",
              "    .dataframe thead th {\n",
              "        text-align: right;\n",
              "    }\n",
              "</style>\n",
              "<table border=\"1\" class=\"dataframe\">\n",
              "  <thead>\n",
              "    <tr style=\"text-align: right;\">\n",
              "      <th></th>\n",
              "      <th>order_id</th>\n",
              "      <th>order_purchase_timestamp</th>\n",
              "    </tr>\n",
              "  </thead>\n",
              "  <tbody>\n",
              "    <tr>\n",
              "      <th>0</th>\n",
              "      <td>e481f51cbdc54678b7cc49136f2d6af7</td>\n",
              "      <td>2017-10-02 10:56:33</td>\n",
              "    </tr>\n",
              "    <tr>\n",
              "      <th>1</th>\n",
              "      <td>53cdb2fc8bc7dce0b6741e2150273451</td>\n",
              "      <td>2018-07-24 20:41:37</td>\n",
              "    </tr>\n",
              "    <tr>\n",
              "      <th>2</th>\n",
              "      <td>47770eb9100c2d0c44946d9cf07ec65d</td>\n",
              "      <td>2018-08-08 08:38:49</td>\n",
              "    </tr>\n",
              "    <tr>\n",
              "      <th>3</th>\n",
              "      <td>949d5b44dbf5de918fe9c16f97b45f8a</td>\n",
              "      <td>2017-11-18 19:28:06</td>\n",
              "    </tr>\n",
              "    <tr>\n",
              "      <th>4</th>\n",
              "      <td>ad21c59c0840e6cb83a9ceb5573f8159</td>\n",
              "      <td>2018-02-13 21:18:39</td>\n",
              "    </tr>\n",
              "  </tbody>\n",
              "</table>\n",
              "</div>"
            ],
            "text/plain": [
              "                           order_id order_purchase_timestamp\n",
              "0  e481f51cbdc54678b7cc49136f2d6af7      2017-10-02 10:56:33\n",
              "1  53cdb2fc8bc7dce0b6741e2150273451      2018-07-24 20:41:37\n",
              "2  47770eb9100c2d0c44946d9cf07ec65d      2018-08-08 08:38:49\n",
              "3  949d5b44dbf5de918fe9c16f97b45f8a      2017-11-18 19:28:06\n",
              "4  ad21c59c0840e6cb83a9ceb5573f8159      2018-02-13 21:18:39"
            ]
          },
          "metadata": {
            "tags": []
          },
          "execution_count": 9
        }
      ]
    },
    {
      "cell_type": "code",
      "metadata": {
        "colab": {
          "base_uri": "https://localhost:8080/",
          "height": 206
        },
        "id": "eP44Q2st0GUR",
        "outputId": "25a8ea40-f8af-4cf9-8e07-57e950f00e84"
      },
      "source": [
        "db3=db3.iloc[:,[0,1]]\n",
        "db3.head()"
      ],
      "execution_count": null,
      "outputs": [
        {
          "output_type": "execute_result",
          "data": {
            "text/html": [
              "<div>\n",
              "<style scoped>\n",
              "    .dataframe tbody tr th:only-of-type {\n",
              "        vertical-align: middle;\n",
              "    }\n",
              "\n",
              "    .dataframe tbody tr th {\n",
              "        vertical-align: top;\n",
              "    }\n",
              "\n",
              "    .dataframe thead th {\n",
              "        text-align: right;\n",
              "    }\n",
              "</style>\n",
              "<table border=\"1\" class=\"dataframe\">\n",
              "  <thead>\n",
              "    <tr style=\"text-align: right;\">\n",
              "      <th></th>\n",
              "      <th>product_id</th>\n",
              "      <th>product_category_name</th>\n",
              "    </tr>\n",
              "  </thead>\n",
              "  <tbody>\n",
              "    <tr>\n",
              "      <th>0</th>\n",
              "      <td>1e9e8ef04dbcff4541ed26657ea517e5</td>\n",
              "      <td>perfumaria</td>\n",
              "    </tr>\n",
              "    <tr>\n",
              "      <th>1</th>\n",
              "      <td>3aa071139cb16b67ca9e5dea641aaa2f</td>\n",
              "      <td>artes</td>\n",
              "    </tr>\n",
              "    <tr>\n",
              "      <th>2</th>\n",
              "      <td>96bd76ec8810374ed1b65e291975717f</td>\n",
              "      <td>esporte_lazer</td>\n",
              "    </tr>\n",
              "    <tr>\n",
              "      <th>3</th>\n",
              "      <td>cef67bcfe19066a932b7673e239eb23d</td>\n",
              "      <td>bebes</td>\n",
              "    </tr>\n",
              "    <tr>\n",
              "      <th>4</th>\n",
              "      <td>9dc1a7de274444849c219cff195d0b71</td>\n",
              "      <td>utilidades_domesticas</td>\n",
              "    </tr>\n",
              "  </tbody>\n",
              "</table>\n",
              "</div>"
            ],
            "text/plain": [
              "                         product_id  product_category_name\n",
              "0  1e9e8ef04dbcff4541ed26657ea517e5             perfumaria\n",
              "1  3aa071139cb16b67ca9e5dea641aaa2f                  artes\n",
              "2  96bd76ec8810374ed1b65e291975717f          esporte_lazer\n",
              "3  cef67bcfe19066a932b7673e239eb23d                  bebes\n",
              "4  9dc1a7de274444849c219cff195d0b71  utilidades_domesticas"
            ]
          },
          "metadata": {
            "tags": []
          },
          "execution_count": 10
        }
      ]
    },
    {
      "cell_type": "code",
      "metadata": {
        "id": "Ds41ScNs1Nl3"
      },
      "source": [
        "merged_Frame = pd.merge(db1,db3, on = 'product_id',how='inner')"
      ],
      "execution_count": null,
      "outputs": []
    },
    {
      "cell_type": "code",
      "metadata": {
        "colab": {
          "base_uri": "https://localhost:8080/",
          "height": 424
        },
        "id": "nvXuAUku-3UC",
        "outputId": "e849d304-5c3e-4065-dbe2-7cef071c0396"
      },
      "source": [
        "merged_Frame"
      ],
      "execution_count": null,
      "outputs": [
        {
          "output_type": "execute_result",
          "data": {
            "text/html": [
              "<div>\n",
              "<style scoped>\n",
              "    .dataframe tbody tr th:only-of-type {\n",
              "        vertical-align: middle;\n",
              "    }\n",
              "\n",
              "    .dataframe tbody tr th {\n",
              "        vertical-align: top;\n",
              "    }\n",
              "\n",
              "    .dataframe thead th {\n",
              "        text-align: right;\n",
              "    }\n",
              "</style>\n",
              "<table border=\"1\" class=\"dataframe\">\n",
              "  <thead>\n",
              "    <tr style=\"text-align: right;\">\n",
              "      <th></th>\n",
              "      <th>order_id</th>\n",
              "      <th>order_item_id</th>\n",
              "      <th>product_id</th>\n",
              "      <th>product_category_name</th>\n",
              "    </tr>\n",
              "  </thead>\n",
              "  <tbody>\n",
              "    <tr>\n",
              "      <th>0</th>\n",
              "      <td>00010242fe8c5a6d1ba2dd792cb16214</td>\n",
              "      <td>1</td>\n",
              "      <td>4244733e06e7ecb4970a6e2683c13e61</td>\n",
              "      <td>cool_stuff</td>\n",
              "    </tr>\n",
              "    <tr>\n",
              "      <th>1</th>\n",
              "      <td>130898c0987d1801452a8ed92a670612</td>\n",
              "      <td>1</td>\n",
              "      <td>4244733e06e7ecb4970a6e2683c13e61</td>\n",
              "      <td>cool_stuff</td>\n",
              "    </tr>\n",
              "    <tr>\n",
              "      <th>2</th>\n",
              "      <td>532ed5e14e24ae1f0d735b91524b98b9</td>\n",
              "      <td>1</td>\n",
              "      <td>4244733e06e7ecb4970a6e2683c13e61</td>\n",
              "      <td>cool_stuff</td>\n",
              "    </tr>\n",
              "    <tr>\n",
              "      <th>3</th>\n",
              "      <td>6f8c31653edb8c83e1a739408b5ff750</td>\n",
              "      <td>1</td>\n",
              "      <td>4244733e06e7ecb4970a6e2683c13e61</td>\n",
              "      <td>cool_stuff</td>\n",
              "    </tr>\n",
              "    <tr>\n",
              "      <th>4</th>\n",
              "      <td>7d19f4ef4d04461989632411b7e588b9</td>\n",
              "      <td>1</td>\n",
              "      <td>4244733e06e7ecb4970a6e2683c13e61</td>\n",
              "      <td>cool_stuff</td>\n",
              "    </tr>\n",
              "    <tr>\n",
              "      <th>...</th>\n",
              "      <td>...</td>\n",
              "      <td>...</td>\n",
              "      <td>...</td>\n",
              "      <td>...</td>\n",
              "    </tr>\n",
              "    <tr>\n",
              "      <th>112645</th>\n",
              "      <td>ffebd80e3291e811c308365936897efd</td>\n",
              "      <td>1</td>\n",
              "      <td>4cc4d02efc8f249c13355147fb44e34d</td>\n",
              "      <td>ferramentas_jardim</td>\n",
              "    </tr>\n",
              "    <tr>\n",
              "      <th>112646</th>\n",
              "      <td>ffee31fb4b5e35c9123608015637c495</td>\n",
              "      <td>1</td>\n",
              "      <td>b10ecf8e33aaaea419a9fa860ea80fb5</td>\n",
              "      <td>moveis_decoracao</td>\n",
              "    </tr>\n",
              "    <tr>\n",
              "      <th>112647</th>\n",
              "      <td>fff7c4452f050315db1b3f24d9df5fcd</td>\n",
              "      <td>1</td>\n",
              "      <td>dd469c03ad67e201bc2179ef077dcd48</td>\n",
              "      <td>relogios_presentes</td>\n",
              "    </tr>\n",
              "    <tr>\n",
              "      <th>112648</th>\n",
              "      <td>fffa82886406ccf10c7b4e35c4ff2788</td>\n",
              "      <td>1</td>\n",
              "      <td>bbe7651fef80287a816ead73f065fc4b</td>\n",
              "      <td>esporte_lazer</td>\n",
              "    </tr>\n",
              "    <tr>\n",
              "      <th>112649</th>\n",
              "      <td>fffe41c64501cc87c801fd61db3f6244</td>\n",
              "      <td>1</td>\n",
              "      <td>350688d9dc1e75ff97be326363655e01</td>\n",
              "      <td>cama_mesa_banho</td>\n",
              "    </tr>\n",
              "  </tbody>\n",
              "</table>\n",
              "<p>112650 rows × 4 columns</p>\n",
              "</div>"
            ],
            "text/plain": [
              "                                order_id  ...  product_category_name\n",
              "0       00010242fe8c5a6d1ba2dd792cb16214  ...             cool_stuff\n",
              "1       130898c0987d1801452a8ed92a670612  ...             cool_stuff\n",
              "2       532ed5e14e24ae1f0d735b91524b98b9  ...             cool_stuff\n",
              "3       6f8c31653edb8c83e1a739408b5ff750  ...             cool_stuff\n",
              "4       7d19f4ef4d04461989632411b7e588b9  ...             cool_stuff\n",
              "...                                  ...  ...                    ...\n",
              "112645  ffebd80e3291e811c308365936897efd  ...     ferramentas_jardim\n",
              "112646  ffee31fb4b5e35c9123608015637c495  ...       moveis_decoracao\n",
              "112647  fff7c4452f050315db1b3f24d9df5fcd  ...     relogios_presentes\n",
              "112648  fffa82886406ccf10c7b4e35c4ff2788  ...          esporte_lazer\n",
              "112649  fffe41c64501cc87c801fd61db3f6244  ...        cama_mesa_banho\n",
              "\n",
              "[112650 rows x 4 columns]"
            ]
          },
          "metadata": {
            "tags": []
          },
          "execution_count": 12
        }
      ]
    },
    {
      "cell_type": "code",
      "metadata": {
        "id": "Qry-KOhdAB1T"
      },
      "source": [
        "fdb= pd.merge(merged_Frame,db2, on = 'order_id',how='inner')"
      ],
      "execution_count": null,
      "outputs": []
    },
    {
      "cell_type": "code",
      "metadata": {
        "colab": {
          "base_uri": "https://localhost:8080/",
          "height": 424
        },
        "id": "CEtP_hmbEx8E",
        "outputId": "62508141-a6aa-4d9b-c310-8a715006f0e0"
      },
      "source": [
        "fdb"
      ],
      "execution_count": null,
      "outputs": [
        {
          "output_type": "execute_result",
          "data": {
            "text/html": [
              "<div>\n",
              "<style scoped>\n",
              "    .dataframe tbody tr th:only-of-type {\n",
              "        vertical-align: middle;\n",
              "    }\n",
              "\n",
              "    .dataframe tbody tr th {\n",
              "        vertical-align: top;\n",
              "    }\n",
              "\n",
              "    .dataframe thead th {\n",
              "        text-align: right;\n",
              "    }\n",
              "</style>\n",
              "<table border=\"1\" class=\"dataframe\">\n",
              "  <thead>\n",
              "    <tr style=\"text-align: right;\">\n",
              "      <th></th>\n",
              "      <th>order_id</th>\n",
              "      <th>order_item_id</th>\n",
              "      <th>product_id</th>\n",
              "      <th>product_category_name</th>\n",
              "      <th>order_purchase_timestamp</th>\n",
              "    </tr>\n",
              "  </thead>\n",
              "  <tbody>\n",
              "    <tr>\n",
              "      <th>0</th>\n",
              "      <td>00010242fe8c5a6d1ba2dd792cb16214</td>\n",
              "      <td>1</td>\n",
              "      <td>4244733e06e7ecb4970a6e2683c13e61</td>\n",
              "      <td>cool_stuff</td>\n",
              "      <td>2017-09-13 08:59:02</td>\n",
              "    </tr>\n",
              "    <tr>\n",
              "      <th>1</th>\n",
              "      <td>130898c0987d1801452a8ed92a670612</td>\n",
              "      <td>1</td>\n",
              "      <td>4244733e06e7ecb4970a6e2683c13e61</td>\n",
              "      <td>cool_stuff</td>\n",
              "      <td>2017-06-28 11:52:20</td>\n",
              "    </tr>\n",
              "    <tr>\n",
              "      <th>2</th>\n",
              "      <td>532ed5e14e24ae1f0d735b91524b98b9</td>\n",
              "      <td>1</td>\n",
              "      <td>4244733e06e7ecb4970a6e2683c13e61</td>\n",
              "      <td>cool_stuff</td>\n",
              "      <td>2018-05-18 10:25:53</td>\n",
              "    </tr>\n",
              "    <tr>\n",
              "      <th>3</th>\n",
              "      <td>6f8c31653edb8c83e1a739408b5ff750</td>\n",
              "      <td>1</td>\n",
              "      <td>4244733e06e7ecb4970a6e2683c13e61</td>\n",
              "      <td>cool_stuff</td>\n",
              "      <td>2017-08-01 18:38:42</td>\n",
              "    </tr>\n",
              "    <tr>\n",
              "      <th>4</th>\n",
              "      <td>7d19f4ef4d04461989632411b7e588b9</td>\n",
              "      <td>1</td>\n",
              "      <td>4244733e06e7ecb4970a6e2683c13e61</td>\n",
              "      <td>cool_stuff</td>\n",
              "      <td>2017-08-10 21:48:40</td>\n",
              "    </tr>\n",
              "    <tr>\n",
              "      <th>...</th>\n",
              "      <td>...</td>\n",
              "      <td>...</td>\n",
              "      <td>...</td>\n",
              "      <td>...</td>\n",
              "      <td>...</td>\n",
              "    </tr>\n",
              "    <tr>\n",
              "      <th>112645</th>\n",
              "      <td>ffebd80e3291e811c308365936897efd</td>\n",
              "      <td>1</td>\n",
              "      <td>4cc4d02efc8f249c13355147fb44e34d</td>\n",
              "      <td>ferramentas_jardim</td>\n",
              "      <td>2018-07-13 20:04:05</td>\n",
              "    </tr>\n",
              "    <tr>\n",
              "      <th>112646</th>\n",
              "      <td>ffee31fb4b5e35c9123608015637c495</td>\n",
              "      <td>1</td>\n",
              "      <td>b10ecf8e33aaaea419a9fa860ea80fb5</td>\n",
              "      <td>moveis_decoracao</td>\n",
              "      <td>2018-08-18 10:00:59</td>\n",
              "    </tr>\n",
              "    <tr>\n",
              "      <th>112647</th>\n",
              "      <td>fff7c4452f050315db1b3f24d9df5fcd</td>\n",
              "      <td>1</td>\n",
              "      <td>dd469c03ad67e201bc2179ef077dcd48</td>\n",
              "      <td>relogios_presentes</td>\n",
              "      <td>2017-06-01 16:53:03</td>\n",
              "    </tr>\n",
              "    <tr>\n",
              "      <th>112648</th>\n",
              "      <td>fffa82886406ccf10c7b4e35c4ff2788</td>\n",
              "      <td>1</td>\n",
              "      <td>bbe7651fef80287a816ead73f065fc4b</td>\n",
              "      <td>esporte_lazer</td>\n",
              "      <td>2017-12-18 16:33:07</td>\n",
              "    </tr>\n",
              "    <tr>\n",
              "      <th>112649</th>\n",
              "      <td>fffe41c64501cc87c801fd61db3f6244</td>\n",
              "      <td>1</td>\n",
              "      <td>350688d9dc1e75ff97be326363655e01</td>\n",
              "      <td>cama_mesa_banho</td>\n",
              "      <td>2018-06-09 17:00:18</td>\n",
              "    </tr>\n",
              "  </tbody>\n",
              "</table>\n",
              "<p>112650 rows × 5 columns</p>\n",
              "</div>"
            ],
            "text/plain": [
              "                                order_id  ...  order_purchase_timestamp\n",
              "0       00010242fe8c5a6d1ba2dd792cb16214  ...       2017-09-13 08:59:02\n",
              "1       130898c0987d1801452a8ed92a670612  ...       2017-06-28 11:52:20\n",
              "2       532ed5e14e24ae1f0d735b91524b98b9  ...       2018-05-18 10:25:53\n",
              "3       6f8c31653edb8c83e1a739408b5ff750  ...       2017-08-01 18:38:42\n",
              "4       7d19f4ef4d04461989632411b7e588b9  ...       2017-08-10 21:48:40\n",
              "...                                  ...  ...                       ...\n",
              "112645  ffebd80e3291e811c308365936897efd  ...       2018-07-13 20:04:05\n",
              "112646  ffee31fb4b5e35c9123608015637c495  ...       2018-08-18 10:00:59\n",
              "112647  fff7c4452f050315db1b3f24d9df5fcd  ...       2017-06-01 16:53:03\n",
              "112648  fffa82886406ccf10c7b4e35c4ff2788  ...       2017-12-18 16:33:07\n",
              "112649  fffe41c64501cc87c801fd61db3f6244  ...       2018-06-09 17:00:18\n",
              "\n",
              "[112650 rows x 5 columns]"
            ]
          },
          "metadata": {
            "tags": []
          },
          "execution_count": 40
        }
      ]
    },
    {
      "cell_type": "code",
      "metadata": {
        "colab": {
          "base_uri": "https://localhost:8080/"
        },
        "id": "lKjKTiiSGJIF",
        "outputId": "8723afbd-252d-4ce8-b473-cf54757b835e"
      },
      "source": [
        "final_db=fdb\n",
        "final_db.dtypes"
      ],
      "execution_count": null,
      "outputs": [
        {
          "output_type": "execute_result",
          "data": {
            "text/plain": [
              "order_id                    object\n",
              "order_item_id                int64\n",
              "product_id                  object\n",
              "product_category_name       object\n",
              "order_purchase_timestamp    object\n",
              "dtype: object"
            ]
          },
          "metadata": {
            "tags": []
          },
          "execution_count": 14
        }
      ]
    },
    {
      "cell_type": "code",
      "metadata": {
        "id": "e8RlhKQlIZeY"
      },
      "source": [
        "import time\n",
        "final_db.order_purchase_timestamp = final_db.order_purchase_timestamp.astype(\"datetime64[s]\")"
      ],
      "execution_count": null,
      "outputs": []
    },
    {
      "cell_type": "code",
      "metadata": {
        "colab": {
          "base_uri": "https://localhost:8080/"
        },
        "id": "3wiclB3GI7IN",
        "outputId": "13adde48-195e-4fad-c6df-6db2449f64c3"
      },
      "source": [
        "final_db.dtypes"
      ],
      "execution_count": null,
      "outputs": [
        {
          "output_type": "execute_result",
          "data": {
            "text/plain": [
              "order_id                            object\n",
              "order_item_id                        int64\n",
              "product_id                          object\n",
              "product_category_name               object\n",
              "order_purchase_timestamp    datetime64[ns]\n",
              "dtype: object"
            ]
          },
          "metadata": {
            "tags": []
          },
          "execution_count": 44
        }
      ]
    },
    {
      "cell_type": "code",
      "metadata": {
        "colab": {
          "base_uri": "https://localhost:8080/",
          "height": 206
        },
        "id": "wAtRQSNdI_8x",
        "outputId": "4e075074-56a8-42c0-c0ac-6b5bb086ea71"
      },
      "source": [
        "final_db.head()"
      ],
      "execution_count": null,
      "outputs": [
        {
          "output_type": "execute_result",
          "data": {
            "text/html": [
              "<div>\n",
              "<style scoped>\n",
              "    .dataframe tbody tr th:only-of-type {\n",
              "        vertical-align: middle;\n",
              "    }\n",
              "\n",
              "    .dataframe tbody tr th {\n",
              "        vertical-align: top;\n",
              "    }\n",
              "\n",
              "    .dataframe thead th {\n",
              "        text-align: right;\n",
              "    }\n",
              "</style>\n",
              "<table border=\"1\" class=\"dataframe\">\n",
              "  <thead>\n",
              "    <tr style=\"text-align: right;\">\n",
              "      <th></th>\n",
              "      <th>order_id</th>\n",
              "      <th>order_item_id</th>\n",
              "      <th>product_id</th>\n",
              "      <th>product_category_name</th>\n",
              "      <th>order_purchase_timestamp</th>\n",
              "    </tr>\n",
              "  </thead>\n",
              "  <tbody>\n",
              "    <tr>\n",
              "      <th>0</th>\n",
              "      <td>00010242fe8c5a6d1ba2dd792cb16214</td>\n",
              "      <td>1</td>\n",
              "      <td>4244733e06e7ecb4970a6e2683c13e61</td>\n",
              "      <td>cool_stuff</td>\n",
              "      <td>2017-09-13 08:59:02</td>\n",
              "    </tr>\n",
              "    <tr>\n",
              "      <th>1</th>\n",
              "      <td>130898c0987d1801452a8ed92a670612</td>\n",
              "      <td>1</td>\n",
              "      <td>4244733e06e7ecb4970a6e2683c13e61</td>\n",
              "      <td>cool_stuff</td>\n",
              "      <td>2017-06-28 11:52:20</td>\n",
              "    </tr>\n",
              "    <tr>\n",
              "      <th>2</th>\n",
              "      <td>532ed5e14e24ae1f0d735b91524b98b9</td>\n",
              "      <td>1</td>\n",
              "      <td>4244733e06e7ecb4970a6e2683c13e61</td>\n",
              "      <td>cool_stuff</td>\n",
              "      <td>2018-05-18 10:25:53</td>\n",
              "    </tr>\n",
              "    <tr>\n",
              "      <th>3</th>\n",
              "      <td>6f8c31653edb8c83e1a739408b5ff750</td>\n",
              "      <td>1</td>\n",
              "      <td>4244733e06e7ecb4970a6e2683c13e61</td>\n",
              "      <td>cool_stuff</td>\n",
              "      <td>2017-08-01 18:38:42</td>\n",
              "    </tr>\n",
              "    <tr>\n",
              "      <th>4</th>\n",
              "      <td>7d19f4ef4d04461989632411b7e588b9</td>\n",
              "      <td>1</td>\n",
              "      <td>4244733e06e7ecb4970a6e2683c13e61</td>\n",
              "      <td>cool_stuff</td>\n",
              "      <td>2017-08-10 21:48:40</td>\n",
              "    </tr>\n",
              "  </tbody>\n",
              "</table>\n",
              "</div>"
            ],
            "text/plain": [
              "                           order_id  ...  order_purchase_timestamp\n",
              "0  00010242fe8c5a6d1ba2dd792cb16214  ...       2017-09-13 08:59:02\n",
              "1  130898c0987d1801452a8ed92a670612  ...       2017-06-28 11:52:20\n",
              "2  532ed5e14e24ae1f0d735b91524b98b9  ...       2018-05-18 10:25:53\n",
              "3  6f8c31653edb8c83e1a739408b5ff750  ...       2017-08-01 18:38:42\n",
              "4  7d19f4ef4d04461989632411b7e588b9  ...       2017-08-10 21:48:40\n",
              "\n",
              "[5 rows x 5 columns]"
            ]
          },
          "metadata": {
            "tags": []
          },
          "execution_count": 16
        }
      ]
    },
    {
      "cell_type": "markdown",
      "metadata": {
        "id": "xKdmo6XiLqwC"
      },
      "source": [
        "#Exploratory"
      ]
    },
    {
      "cell_type": "code",
      "metadata": {
        "colab": {
          "base_uri": "https://localhost:8080/",
          "height": 424
        },
        "id": "P0PGSmv4JMtZ",
        "outputId": "2982cba8-e356-408e-be0c-babe3cb07afe"
      },
      "source": [
        "product_num=final_db.groupby('product_id')['order_item_id'].sum()\n",
        "product_num=pd.DataFrame(product_num)\n",
        "product_num.reset_index(level=0, inplace=True)\n",
        "product_num"
      ],
      "execution_count": null,
      "outputs": [
        {
          "output_type": "execute_result",
          "data": {
            "text/html": [
              "<div>\n",
              "<style scoped>\n",
              "    .dataframe tbody tr th:only-of-type {\n",
              "        vertical-align: middle;\n",
              "    }\n",
              "\n",
              "    .dataframe tbody tr th {\n",
              "        vertical-align: top;\n",
              "    }\n",
              "\n",
              "    .dataframe thead th {\n",
              "        text-align: right;\n",
              "    }\n",
              "</style>\n",
              "<table border=\"1\" class=\"dataframe\">\n",
              "  <thead>\n",
              "    <tr style=\"text-align: right;\">\n",
              "      <th></th>\n",
              "      <th>product_id</th>\n",
              "      <th>order_item_id</th>\n",
              "    </tr>\n",
              "  </thead>\n",
              "  <tbody>\n",
              "    <tr>\n",
              "      <th>0</th>\n",
              "      <td>00066f42aeeb9f3007548bb9d3f33c38</td>\n",
              "      <td>1</td>\n",
              "    </tr>\n",
              "    <tr>\n",
              "      <th>1</th>\n",
              "      <td>00088930e925c41fd95ebfe695fd2655</td>\n",
              "      <td>1</td>\n",
              "    </tr>\n",
              "    <tr>\n",
              "      <th>2</th>\n",
              "      <td>0009406fd7479715e4bef61dd91f2462</td>\n",
              "      <td>1</td>\n",
              "    </tr>\n",
              "    <tr>\n",
              "      <th>3</th>\n",
              "      <td>000b8f95fcb9e0096488278317764d19</td>\n",
              "      <td>2</td>\n",
              "    </tr>\n",
              "    <tr>\n",
              "      <th>4</th>\n",
              "      <td>000d9be29b5207b54e86aa1b1ac54872</td>\n",
              "      <td>1</td>\n",
              "    </tr>\n",
              "    <tr>\n",
              "      <th>...</th>\n",
              "      <td>...</td>\n",
              "      <td>...</td>\n",
              "    </tr>\n",
              "    <tr>\n",
              "      <th>32946</th>\n",
              "      <td>fff6177642830a9a94a0f2cba5e476d1</td>\n",
              "      <td>2</td>\n",
              "    </tr>\n",
              "    <tr>\n",
              "      <th>32947</th>\n",
              "      <td>fff81cc3158d2725c0655ab9ba0f712c</td>\n",
              "      <td>1</td>\n",
              "    </tr>\n",
              "    <tr>\n",
              "      <th>32948</th>\n",
              "      <td>fff9553ac224cec9d15d49f5a263411f</td>\n",
              "      <td>1</td>\n",
              "    </tr>\n",
              "    <tr>\n",
              "      <th>32949</th>\n",
              "      <td>fffdb2d0ec8d6a61f0a0a0db3f25b441</td>\n",
              "      <td>5</td>\n",
              "    </tr>\n",
              "    <tr>\n",
              "      <th>32950</th>\n",
              "      <td>fffe9eeff12fcbd74a2f2b007dde0c58</td>\n",
              "      <td>1</td>\n",
              "    </tr>\n",
              "  </tbody>\n",
              "</table>\n",
              "<p>32951 rows × 2 columns</p>\n",
              "</div>"
            ],
            "text/plain": [
              "                             product_id  order_item_id\n",
              "0      00066f42aeeb9f3007548bb9d3f33c38              1\n",
              "1      00088930e925c41fd95ebfe695fd2655              1\n",
              "2      0009406fd7479715e4bef61dd91f2462              1\n",
              "3      000b8f95fcb9e0096488278317764d19              2\n",
              "4      000d9be29b5207b54e86aa1b1ac54872              1\n",
              "...                                 ...            ...\n",
              "32946  fff6177642830a9a94a0f2cba5e476d1              2\n",
              "32947  fff81cc3158d2725c0655ab9ba0f712c              1\n",
              "32948  fff9553ac224cec9d15d49f5a263411f              1\n",
              "32949  fffdb2d0ec8d6a61f0a0a0db3f25b441              5\n",
              "32950  fffe9eeff12fcbd74a2f2b007dde0c58              1\n",
              "\n",
              "[32951 rows x 2 columns]"
            ]
          },
          "metadata": {
            "tags": []
          },
          "execution_count": 55
        }
      ]
    },
    {
      "cell_type": "code",
      "metadata": {
        "colab": {
          "base_uri": "https://localhost:8080/",
          "height": 363
        },
        "id": "Gyr1zOiXQZKQ",
        "outputId": "7a016119-a908-4456-959f-010b41cd05e8"
      },
      "source": [
        "top_10=product_num.sort_values(by='order_item_id', ascending=False).head(10)\n",
        "top_10"
      ],
      "execution_count": null,
      "outputs": [
        {
          "output_type": "execute_result",
          "data": {
            "text/html": [
              "<div>\n",
              "<style scoped>\n",
              "    .dataframe tbody tr th:only-of-type {\n",
              "        vertical-align: middle;\n",
              "    }\n",
              "\n",
              "    .dataframe tbody tr th {\n",
              "        vertical-align: top;\n",
              "    }\n",
              "\n",
              "    .dataframe thead th {\n",
              "        text-align: right;\n",
              "    }\n",
              "</style>\n",
              "<table border=\"1\" class=\"dataframe\">\n",
              "  <thead>\n",
              "    <tr style=\"text-align: right;\">\n",
              "      <th></th>\n",
              "      <th>product_id</th>\n",
              "      <th>order_item_id</th>\n",
              "    </tr>\n",
              "  </thead>\n",
              "  <tbody>\n",
              "    <tr>\n",
              "      <th>8613</th>\n",
              "      <td>422879e10f46682990de24d770e7f83d</td>\n",
              "      <td>793</td>\n",
              "    </tr>\n",
              "    <tr>\n",
              "      <th>22112</th>\n",
              "      <td>aca2eb7d00ea1a7b8ebd4e68314663af</td>\n",
              "      <td>640</td>\n",
              "    </tr>\n",
              "    <tr>\n",
              "      <th>7079</th>\n",
              "      <td>368c6c730842d78016ad823897a372db</td>\n",
              "      <td>551</td>\n",
              "    </tr>\n",
              "    <tr>\n",
              "      <th>10840</th>\n",
              "      <td>53759a2ecddad2bb87a079a1f1519f73</td>\n",
              "      <td>545</td>\n",
              "    </tr>\n",
              "    <tr>\n",
              "      <th>19742</th>\n",
              "      <td>99a4788cb24856965c36a24e339b6058</td>\n",
              "      <td>542</td>\n",
              "    </tr>\n",
              "    <tr>\n",
              "      <th>7364</th>\n",
              "      <td>389d119b48cf3043d311335e499d9c6b</td>\n",
              "      <td>534</td>\n",
              "    </tr>\n",
              "    <tr>\n",
              "      <th>27039</th>\n",
              "      <td>d1c427060a0f73f6b889a5c7c61f2ac4</td>\n",
              "      <td>369</td>\n",
              "    </tr>\n",
              "    <tr>\n",
              "      <th>21302</th>\n",
              "      <td>a62e25e09e05e6faf31d90c6ec1aa3d1</td>\n",
              "      <td>367</td>\n",
              "    </tr>\n",
              "    <tr>\n",
              "      <th>10867</th>\n",
              "      <td>53b36df67ebb7c41585e8d54d6772e08</td>\n",
              "      <td>359</td>\n",
              "    </tr>\n",
              "    <tr>\n",
              "      <th>8051</th>\n",
              "      <td>3dd2a17168ec895c781a9191c1e95ad7</td>\n",
              "      <td>306</td>\n",
              "    </tr>\n",
              "  </tbody>\n",
              "</table>\n",
              "</div>"
            ],
            "text/plain": [
              "                             product_id  order_item_id\n",
              "8613   422879e10f46682990de24d770e7f83d            793\n",
              "22112  aca2eb7d00ea1a7b8ebd4e68314663af            640\n",
              "7079   368c6c730842d78016ad823897a372db            551\n",
              "10840  53759a2ecddad2bb87a079a1f1519f73            545\n",
              "19742  99a4788cb24856965c36a24e339b6058            542\n",
              "7364   389d119b48cf3043d311335e499d9c6b            534\n",
              "27039  d1c427060a0f73f6b889a5c7c61f2ac4            369\n",
              "21302  a62e25e09e05e6faf31d90c6ec1aa3d1            367\n",
              "10867  53b36df67ebb7c41585e8d54d6772e08            359\n",
              "8051   3dd2a17168ec895c781a9191c1e95ad7            306"
            ]
          },
          "metadata": {
            "tags": []
          },
          "execution_count": 56
        }
      ]
    },
    {
      "cell_type": "code",
      "metadata": {
        "colab": {
          "base_uri": "https://localhost:8080/",
          "height": 424
        },
        "id": "IkRSx90BZoSK",
        "outputId": "2eecea35-876c-4ae6-dceb-5fc0dafd7f25"
      },
      "source": [
        "final_db1=final_db[final_db['product_id'].isin(top_10.product_id)]\n",
        "final_db1=final_db1.sort_values(by='order_purchase_timestamp', ascending=True)\n",
        "final_db1=final_db1.reset_index(drop=True)\n",
        "final_db1"
      ],
      "execution_count": null,
      "outputs": [
        {
          "output_type": "execute_result",
          "data": {
            "text/html": [
              "<div>\n",
              "<style scoped>\n",
              "    .dataframe tbody tr th:only-of-type {\n",
              "        vertical-align: middle;\n",
              "    }\n",
              "\n",
              "    .dataframe tbody tr th {\n",
              "        vertical-align: top;\n",
              "    }\n",
              "\n",
              "    .dataframe thead th {\n",
              "        text-align: right;\n",
              "    }\n",
              "</style>\n",
              "<table border=\"1\" class=\"dataframe\">\n",
              "  <thead>\n",
              "    <tr style=\"text-align: right;\">\n",
              "      <th></th>\n",
              "      <th>order_id</th>\n",
              "      <th>order_item_id</th>\n",
              "      <th>product_id</th>\n",
              "      <th>product_category_name</th>\n",
              "      <th>order_purchase_timestamp</th>\n",
              "    </tr>\n",
              "  </thead>\n",
              "  <tbody>\n",
              "    <tr>\n",
              "      <th>0</th>\n",
              "      <td>f1b3dc829876d87a130808b76d5bacf7</td>\n",
              "      <td>1</td>\n",
              "      <td>d1c427060a0f73f6b889a5c7c61f2ac4</td>\n",
              "      <td>informatica_acessorios</td>\n",
              "      <td>2017-02-15 16:31:44</td>\n",
              "    </tr>\n",
              "    <tr>\n",
              "      <th>1</th>\n",
              "      <td>f89780d4d98317847142affbe5c0c965</td>\n",
              "      <td>1</td>\n",
              "      <td>d1c427060a0f73f6b889a5c7c61f2ac4</td>\n",
              "      <td>informatica_acessorios</td>\n",
              "      <td>2017-02-21 09:31:18</td>\n",
              "    </tr>\n",
              "    <tr>\n",
              "      <th>2</th>\n",
              "      <td>af9c840cca8fc0cb05a2f9e9ec923fa6</td>\n",
              "      <td>1</td>\n",
              "      <td>d1c427060a0f73f6b889a5c7c61f2ac4</td>\n",
              "      <td>informatica_acessorios</td>\n",
              "      <td>2017-02-23 15:07:15</td>\n",
              "    </tr>\n",
              "    <tr>\n",
              "      <th>3</th>\n",
              "      <td>5fd7343c3fa3940bd6fb6145c38382ff</td>\n",
              "      <td>1</td>\n",
              "      <td>99a4788cb24856965c36a24e339b6058</td>\n",
              "      <td>cama_mesa_banho</td>\n",
              "      <td>2017-02-28 11:11:32</td>\n",
              "    </tr>\n",
              "    <tr>\n",
              "      <th>4</th>\n",
              "      <td>bd23f37e365507db2b5b5b624b413315</td>\n",
              "      <td>1</td>\n",
              "      <td>99a4788cb24856965c36a24e339b6058</td>\n",
              "      <td>cama_mesa_banho</td>\n",
              "      <td>2017-02-28 18:50:42</td>\n",
              "    </tr>\n",
              "    <tr>\n",
              "      <th>...</th>\n",
              "      <td>...</td>\n",
              "      <td>...</td>\n",
              "      <td>...</td>\n",
              "      <td>...</td>\n",
              "      <td>...</td>\n",
              "    </tr>\n",
              "    <tr>\n",
              "      <th>3813</th>\n",
              "      <td>4d5cefeb0501de96acd522c3742d3d04</td>\n",
              "      <td>2</td>\n",
              "      <td>53759a2ecddad2bb87a079a1f1519f73</td>\n",
              "      <td>ferramentas_jardim</td>\n",
              "      <td>2018-08-22 15:14:14</td>\n",
              "    </tr>\n",
              "    <tr>\n",
              "      <th>3814</th>\n",
              "      <td>4d5cefeb0501de96acd522c3742d3d04</td>\n",
              "      <td>1</td>\n",
              "      <td>53759a2ecddad2bb87a079a1f1519f73</td>\n",
              "      <td>ferramentas_jardim</td>\n",
              "      <td>2018-08-22 15:14:14</td>\n",
              "    </tr>\n",
              "    <tr>\n",
              "      <th>3815</th>\n",
              "      <td>feafc8e3422f6e1f4c00bd29dd9c2921</td>\n",
              "      <td>1</td>\n",
              "      <td>53759a2ecddad2bb87a079a1f1519f73</td>\n",
              "      <td>ferramentas_jardim</td>\n",
              "      <td>2018-08-22 16:31:45</td>\n",
              "    </tr>\n",
              "    <tr>\n",
              "      <th>3816</th>\n",
              "      <td>f8687dbf5b2eb77e1a9ed2d9ab104901</td>\n",
              "      <td>1</td>\n",
              "      <td>d1c427060a0f73f6b889a5c7c61f2ac4</td>\n",
              "      <td>informatica_acessorios</td>\n",
              "      <td>2018-08-22 18:27:48</td>\n",
              "    </tr>\n",
              "    <tr>\n",
              "      <th>3817</th>\n",
              "      <td>73cfaa863221d5987b3f6aa644affca3</td>\n",
              "      <td>1</td>\n",
              "      <td>368c6c730842d78016ad823897a372db</td>\n",
              "      <td>ferramentas_jardim</td>\n",
              "      <td>2018-08-25 20:10:27</td>\n",
              "    </tr>\n",
              "  </tbody>\n",
              "</table>\n",
              "<p>3818 rows × 5 columns</p>\n",
              "</div>"
            ],
            "text/plain": [
              "                              order_id  ...  order_purchase_timestamp\n",
              "0     f1b3dc829876d87a130808b76d5bacf7  ...       2017-02-15 16:31:44\n",
              "1     f89780d4d98317847142affbe5c0c965  ...       2017-02-21 09:31:18\n",
              "2     af9c840cca8fc0cb05a2f9e9ec923fa6  ...       2017-02-23 15:07:15\n",
              "3     5fd7343c3fa3940bd6fb6145c38382ff  ...       2017-02-28 11:11:32\n",
              "4     bd23f37e365507db2b5b5b624b413315  ...       2017-02-28 18:50:42\n",
              "...                                ...  ...                       ...\n",
              "3813  4d5cefeb0501de96acd522c3742d3d04  ...       2018-08-22 15:14:14\n",
              "3814  4d5cefeb0501de96acd522c3742d3d04  ...       2018-08-22 15:14:14\n",
              "3815  feafc8e3422f6e1f4c00bd29dd9c2921  ...       2018-08-22 16:31:45\n",
              "3816  f8687dbf5b2eb77e1a9ed2d9ab104901  ...       2018-08-22 18:27:48\n",
              "3817  73cfaa863221d5987b3f6aa644affca3  ...       2018-08-25 20:10:27\n",
              "\n",
              "[3818 rows x 5 columns]"
            ]
          },
          "metadata": {
            "tags": []
          },
          "execution_count": 78
        }
      ]
    },
    {
      "cell_type": "code",
      "metadata": {
        "id": "AuRoXXNXjS4g"
      },
      "source": [
        "beta=top_10.product_id.unique()"
      ],
      "execution_count": null,
      "outputs": []
    },
    {
      "cell_type": "code",
      "metadata": {
        "id": "POU8o_zGattk"
      },
      "source": [
        "for i in range(0,10):\n",
        "  globals()['final'+str(i)]= final_db1[final_db1['product_id'] == beta[i]]"
      ],
      "execution_count": null,
      "outputs": []
    },
    {
      "cell_type": "code",
      "metadata": {
        "colab": {
          "base_uri": "https://localhost:8080/",
          "height": 424
        },
        "id": "uot3zaGybiWr",
        "outputId": "ea46cb2e-831c-4c42-8f3d-67a3520f054c"
      },
      "source": [
        "final0"
      ],
      "execution_count": null,
      "outputs": [
        {
          "output_type": "execute_result",
          "data": {
            "text/html": [
              "<div>\n",
              "<style scoped>\n",
              "    .dataframe tbody tr th:only-of-type {\n",
              "        vertical-align: middle;\n",
              "    }\n",
              "\n",
              "    .dataframe tbody tr th {\n",
              "        vertical-align: top;\n",
              "    }\n",
              "\n",
              "    .dataframe thead th {\n",
              "        text-align: right;\n",
              "    }\n",
              "</style>\n",
              "<table border=\"1\" class=\"dataframe\">\n",
              "  <thead>\n",
              "    <tr style=\"text-align: right;\">\n",
              "      <th></th>\n",
              "      <th>order_id</th>\n",
              "      <th>order_item_id</th>\n",
              "      <th>product_id</th>\n",
              "      <th>product_category_name</th>\n",
              "      <th>order_purchase_timestamp</th>\n",
              "    </tr>\n",
              "  </thead>\n",
              "  <tbody>\n",
              "    <tr>\n",
              "      <th>77</th>\n",
              "      <td>af8e7d8a37a728552281a38e79f5e82a</td>\n",
              "      <td>1</td>\n",
              "      <td>422879e10f46682990de24d770e7f83d</td>\n",
              "      <td>ferramentas_jardim</td>\n",
              "      <td>2017-05-02 18:34:59</td>\n",
              "    </tr>\n",
              "    <tr>\n",
              "      <th>104</th>\n",
              "      <td>1f3c0a87c88ece858b2f766ae1952dc2</td>\n",
              "      <td>1</td>\n",
              "      <td>422879e10f46682990de24d770e7f83d</td>\n",
              "      <td>ferramentas_jardim</td>\n",
              "      <td>2017-05-13 15:27:06</td>\n",
              "    </tr>\n",
              "    <tr>\n",
              "      <th>108</th>\n",
              "      <td>dae83470e95e9cf80cf6bcb0fa345777</td>\n",
              "      <td>1</td>\n",
              "      <td>422879e10f46682990de24d770e7f83d</td>\n",
              "      <td>ferramentas_jardim</td>\n",
              "      <td>2017-05-14 20:20:55</td>\n",
              "    </tr>\n",
              "    <tr>\n",
              "      <th>140</th>\n",
              "      <td>7a727e7d4fd27ecc265e8415030811c5</td>\n",
              "      <td>1</td>\n",
              "      <td>422879e10f46682990de24d770e7f83d</td>\n",
              "      <td>ferramentas_jardim</td>\n",
              "      <td>2017-05-29 21:39:18</td>\n",
              "    </tr>\n",
              "    <tr>\n",
              "      <th>177</th>\n",
              "      <td>4d7e10ed70b8c2358e94850352bb490b</td>\n",
              "      <td>1</td>\n",
              "      <td>422879e10f46682990de24d770e7f83d</td>\n",
              "      <td>ferramentas_jardim</td>\n",
              "      <td>2017-06-15 20:23:00</td>\n",
              "    </tr>\n",
              "    <tr>\n",
              "      <th>...</th>\n",
              "      <td>...</td>\n",
              "      <td>...</td>\n",
              "      <td>...</td>\n",
              "      <td>...</td>\n",
              "      <td>...</td>\n",
              "    </tr>\n",
              "    <tr>\n",
              "      <th>3770</th>\n",
              "      <td>78e669f43077eded2d55ba9455560995</td>\n",
              "      <td>3</td>\n",
              "      <td>422879e10f46682990de24d770e7f83d</td>\n",
              "      <td>ferramentas_jardim</td>\n",
              "      <td>2018-08-05 15:42:51</td>\n",
              "    </tr>\n",
              "    <tr>\n",
              "      <th>3771</th>\n",
              "      <td>2e6e6de992c5567f41aa94497d505e77</td>\n",
              "      <td>1</td>\n",
              "      <td>422879e10f46682990de24d770e7f83d</td>\n",
              "      <td>ferramentas_jardim</td>\n",
              "      <td>2018-08-06 02:58:06</td>\n",
              "    </tr>\n",
              "    <tr>\n",
              "      <th>3772</th>\n",
              "      <td>2e6e6de992c5567f41aa94497d505e77</td>\n",
              "      <td>2</td>\n",
              "      <td>422879e10f46682990de24d770e7f83d</td>\n",
              "      <td>ferramentas_jardim</td>\n",
              "      <td>2018-08-06 02:58:06</td>\n",
              "    </tr>\n",
              "    <tr>\n",
              "      <th>3799</th>\n",
              "      <td>9bdc00acb04f677adc8329b932122fd6</td>\n",
              "      <td>1</td>\n",
              "      <td>422879e10f46682990de24d770e7f83d</td>\n",
              "      <td>ferramentas_jardim</td>\n",
              "      <td>2018-08-13 15:34:27</td>\n",
              "    </tr>\n",
              "    <tr>\n",
              "      <th>3804</th>\n",
              "      <td>034c16aeedd39a916ea470f22a048b22</td>\n",
              "      <td>1</td>\n",
              "      <td>422879e10f46682990de24d770e7f83d</td>\n",
              "      <td>ferramentas_jardim</td>\n",
              "      <td>2018-08-14 09:18:25</td>\n",
              "    </tr>\n",
              "  </tbody>\n",
              "</table>\n",
              "<p>484 rows × 5 columns</p>\n",
              "</div>"
            ],
            "text/plain": [
              "                              order_id  ...  order_purchase_timestamp\n",
              "77    af8e7d8a37a728552281a38e79f5e82a  ...       2017-05-02 18:34:59\n",
              "104   1f3c0a87c88ece858b2f766ae1952dc2  ...       2017-05-13 15:27:06\n",
              "108   dae83470e95e9cf80cf6bcb0fa345777  ...       2017-05-14 20:20:55\n",
              "140   7a727e7d4fd27ecc265e8415030811c5  ...       2017-05-29 21:39:18\n",
              "177   4d7e10ed70b8c2358e94850352bb490b  ...       2017-06-15 20:23:00\n",
              "...                                ...  ...                       ...\n",
              "3770  78e669f43077eded2d55ba9455560995  ...       2018-08-05 15:42:51\n",
              "3771  2e6e6de992c5567f41aa94497d505e77  ...       2018-08-06 02:58:06\n",
              "3772  2e6e6de992c5567f41aa94497d505e77  ...       2018-08-06 02:58:06\n",
              "3799  9bdc00acb04f677adc8329b932122fd6  ...       2018-08-13 15:34:27\n",
              "3804  034c16aeedd39a916ea470f22a048b22  ...       2018-08-14 09:18:25\n",
              "\n",
              "[484 rows x 5 columns]"
            ]
          },
          "metadata": {
            "tags": []
          },
          "execution_count": 83
        }
      ]
    },
    {
      "cell_type": "code",
      "metadata": {
        "id": "wwe_7kQhWlXA"
      },
      "source": [
        "final0['order_purchase_timestamp'] = pd.to_datetime(final0['order_purchase_timestamp']) - pd.to_timedelta(7, unit='d')\n",
        "final0 = final0.filter(['order_purchase_timestamp', 'order_item_id']).groupby([pd.Grouper(key='order_purchase_timestamp', freq='W-MON')]).sum().reset_index()"
      ],
      "execution_count": null,
      "outputs": []
    },
    {
      "cell_type": "code",
      "metadata": {
        "colab": {
          "base_uri": "https://localhost:8080/",
          "height": 424
        },
        "id": "XWNrGDUnXSWS",
        "outputId": "615050f6-e70c-4a03-ba1f-7760022d451b"
      },
      "source": [
        "final0"
      ],
      "execution_count": null,
      "outputs": [
        {
          "output_type": "execute_result",
          "data": {
            "text/html": [
              "<div>\n",
              "<style scoped>\n",
              "    .dataframe tbody tr th:only-of-type {\n",
              "        vertical-align: middle;\n",
              "    }\n",
              "\n",
              "    .dataframe tbody tr th {\n",
              "        vertical-align: top;\n",
              "    }\n",
              "\n",
              "    .dataframe thead th {\n",
              "        text-align: right;\n",
              "    }\n",
              "</style>\n",
              "<table border=\"1\" class=\"dataframe\">\n",
              "  <thead>\n",
              "    <tr style=\"text-align: right;\">\n",
              "      <th></th>\n",
              "      <th>order_purchase_timestamp</th>\n",
              "      <th>order_item_id</th>\n",
              "    </tr>\n",
              "  </thead>\n",
              "  <tbody>\n",
              "    <tr>\n",
              "      <th>0</th>\n",
              "      <td>2017-04-24</td>\n",
              "      <td>0</td>\n",
              "    </tr>\n",
              "    <tr>\n",
              "      <th>1</th>\n",
              "      <td>2017-05-01</td>\n",
              "      <td>1</td>\n",
              "    </tr>\n",
              "    <tr>\n",
              "      <th>2</th>\n",
              "      <td>2017-05-08</td>\n",
              "      <td>0</td>\n",
              "    </tr>\n",
              "    <tr>\n",
              "      <th>3</th>\n",
              "      <td>2017-05-15</td>\n",
              "      <td>0</td>\n",
              "    </tr>\n",
              "    <tr>\n",
              "      <th>4</th>\n",
              "      <td>2017-05-22</td>\n",
              "      <td>1</td>\n",
              "    </tr>\n",
              "    <tr>\n",
              "      <th>...</th>\n",
              "      <td>...</td>\n",
              "      <td>...</td>\n",
              "    </tr>\n",
              "    <tr>\n",
              "      <th>61</th>\n",
              "      <td>2018-06-25</td>\n",
              "      <td>1</td>\n",
              "    </tr>\n",
              "    <tr>\n",
              "      <th>62</th>\n",
              "      <td>2018-07-02</td>\n",
              "      <td>2</td>\n",
              "    </tr>\n",
              "    <tr>\n",
              "      <th>63</th>\n",
              "      <td>2018-07-09</td>\n",
              "      <td>8</td>\n",
              "    </tr>\n",
              "    <tr>\n",
              "      <th>64</th>\n",
              "      <td>2018-07-16</td>\n",
              "      <td>1</td>\n",
              "    </tr>\n",
              "    <tr>\n",
              "      <th>65</th>\n",
              "      <td>2018-07-23</td>\n",
              "      <td>1</td>\n",
              "    </tr>\n",
              "  </tbody>\n",
              "</table>\n",
              "<p>66 rows × 2 columns</p>\n",
              "</div>"
            ],
            "text/plain": [
              "   order_purchase_timestamp  order_item_id\n",
              "0                2017-04-24              0\n",
              "1                2017-05-01              1\n",
              "2                2017-05-08              0\n",
              "3                2017-05-15              0\n",
              "4                2017-05-22              1\n",
              "..                      ...            ...\n",
              "61               2018-06-25              1\n",
              "62               2018-07-02              2\n",
              "63               2018-07-09              8\n",
              "64               2018-07-16              1\n",
              "65               2018-07-23              1\n",
              "\n",
              "[66 rows x 2 columns]"
            ]
          },
          "metadata": {
            "tags": []
          },
          "execution_count": 186
        }
      ]
    },
    {
      "cell_type": "code",
      "metadata": {
        "colab": {
          "base_uri": "https://localhost:8080/",
          "height": 265
        },
        "id": "j6vNFS1DxgVw",
        "outputId": "e0e12e3a-d859-4499-97ee-eb35c06b22b3"
      },
      "source": [
        "final0.order_item_id.plot(x='order_purchase_timestamp')\n",
        "plt.show()"
      ],
      "execution_count": null,
      "outputs": [
        {
          "output_type": "display_data",
          "data": {
            "image/png": "[encoded data removed]",
            "text/plain": [
              "<Figure size 432x288 with 1 Axes>"
            ]
          },
          "metadata": {
            "tags": [],
            "needs_background": "light"
          }
        }
      ]
    },
    {
      "cell_type": "markdown",
      "metadata": {
        "id": "BHjO13koXicy"
      },
      "source": [
        "Model1"
      ]
    },
    {
      "cell_type": "code",
      "metadata": {
        "id": "f5VPkxYz1a1U"
      },
      "source": [
        "#model1\n",
        "df=final0"
      ],
      "execution_count": null,
      "outputs": []
    },
    {
      "cell_type": "code",
      "metadata": {
        "id": "3EFifvaYp0uD"
      },
      "source": [
        "df['shift_sale'] = df['order_item_id'].shift(1)\n",
        "df = final0.iloc[1:]"
      ],
      "execution_count": null,
      "outputs": []
    },
    {
      "cell_type": "code",
      "metadata": {
        "id": "T-OYZFu0qfpX"
      },
      "source": [
        "def four_week_avg(sales):\n",
        "    sum = 0\n",
        "    week_avg = []    \n",
        "    for i in range(3, -1, -1):\n",
        "        for j in range(i):\n",
        "            sum += sales[j]\n",
        "        if(i!=0):\n",
        "            week_avg.append(sum/i)\n",
        "        sum = 0\n",
        "    week_avg.append(sales[0])\n",
        "    week_avg.reverse()    \n",
        "    for row in range(len(sales) - 4):\n",
        "        for row in range(row, row + 4):\n",
        "            sum += sales[row]\n",
        "        week_avg.append(sum / 4)\n",
        "        sum = 0\n",
        "    return week_avg"
      ],
      "execution_count": null,
      "outputs": []
    },
    {
      "cell_type": "code",
      "metadata": {
        "colab": {
          "base_uri": "https://localhost:8080/"
        },
        "id": "g2BgUPZTqg50",
        "outputId": "0df09001-09ac-4344-e84c-1598c53d102e"
      },
      "source": [
        "df['week_avg'] = four_week_avg(df['order_item_id'].tolist())\n",
        "print(df.head())"
      ],
      "execution_count": null,
      "outputs": [
        {
          "output_type": "stream",
          "text": [
            "  order_purchase_timestamp  order_item_id  shift_sale  week_avg\n",
            "1               2017-05-08              1         0.0  1.000000\n",
            "2               2017-05-15              0         1.0  1.000000\n",
            "3               2017-05-22              0         0.0  0.500000\n",
            "4               2017-05-29              1         0.0  0.333333\n",
            "5               2017-06-05              0         1.0  0.500000\n"
          ],
          "name": "stdout"
        },
        {
          "output_type": "stream",
          "text": [
            "/usr/local/lib/python3.6/dist-packages/ipykernel_launcher.py:1: SettingWithCopyWarning: \n",
            "A value is trying to be set on a copy of a slice from a DataFrame.\n",
            "Try using .loc[row_indexer,col_indexer] = value instead\n",
            "\n",
            "See the caveats in the documentation: https://pandas.pydata.org/pandas-docs/stable/user_guide/indexing.html#returning-a-view-versus-a-copy\n",
            "  \"\"\"Entry point for launching an IPython kernel.\n"
          ],
          "name": "stderr"
        }
      ]
    },
    {
      "cell_type": "markdown",
      "metadata": {
        "id": "3scSZ2Atrhv0"
      },
      "source": [
        "#Model"
      ]
    },
    {
      "cell_type": "markdown",
      "metadata": {
        "id": "h6WdHKUqsCYl"
      },
      "source": [
        "Data split"
      ]
    },
    {
      "cell_type": "code",
      "metadata": {
        "id": "17QLUvqmrfPu"
      },
      "source": [
        "test = df.iloc[-10:]\n",
        "df=df.iloc[:-10]"
      ],
      "execution_count": null,
      "outputs": []
    },
    {
      "cell_type": "code",
      "metadata": {
        "id": "mBCJjw-RsGya"
      },
      "source": [
        "X = train.drop(['order_purchase_timestamp','order_item_id'], axis=1)\n",
        "y = train['order_item_id']\n",
        "X_train, X_test, y_train, y_test = train_test_split(X, y, test_size=0.2, random_state=42)"
      ],
      "execution_count": null,
      "outputs": []
    },
    {
      "cell_type": "code",
      "metadata": {
        "colab": {
          "base_uri": "https://localhost:8080/"
        },
        "id": "Ws9A2n1VtaUk",
        "outputId": "d73f701f-a3a7-421e-df16-54cca4d10704"
      },
      "source": [
        "clf = svm.SVR(C=1, kernel='linear', degree=8, gamma='scale', coef0=10)\n",
        "clf.fit(X_train, y_train)\n",
        "predictions = clf.predict(X_test)\n",
        "print(f'Model fit results:\\n'\n",
        "      f'r2_score {r2_score(y_test, predictions)} \\t MSE {mean_squared_error(y_test, predictions)}'\n",
        "      f'\\tEVS {explained_variance_score(y_test, predictions)} \\n MAE {mean_absolute_error(y_test, predictions)}'\n",
        "      f'\\tMAD {median_absolute_error(y_test, predictions)}\\t ME {max_error(y_test, predictions)}')"
      ],
      "execution_count": null,
      "outputs": [
        {
          "output_type": "stream",
          "text": [
            "Model fit results:\n",
            "r2_score 0.011385018961844406 \t MSE 828.4318925827233\tEVS 0.05056833100183966 \n",
            " MAE 13.562424268399779\tMAD 6.036786196329803\t ME 96.69685352934192\n"
          ],
          "name": "stdout"
        }
      ]
    },
    {
      "cell_type": "code",
      "metadata": {
        "colab": {
          "base_uri": "https://localhost:8080/"
        },
        "id": "lwmeJmLxt-3V",
        "outputId": "3a821d82-b463-4c7e-e609-80a612afacba"
      },
      "source": [
        "predictions = clf.predict(test.drop(['order_purchase_timestamp','order_item_id'], axis=1))\n",
        "print(f'Model test results:\\n'\n",
        "      f'r2_score {r2_score(test[\"order_item_id\"], predictions)} \\t MSE {mean_squared_error(test[\"order_item_id\"], predictions)}'\n",
        "      f'\\tEVS {explained_variance_score(test[\"order_item_id\"], predictions)} \\n MAE {mean_absolute_error(test[\"order_item_id\"], predictions)}'\n",
        "      f'\\tMAD {median_absolute_error(test[\"order_item_id\"], predictions)}\\t ME {max_error(test[\"order_item_id\"], predictions)}')"
      ],
      "execution_count": null,
      "outputs": [
        {
          "output_type": "stream",
          "text": [
            "Model test results:\n",
            "r2_score -0.43605087782764307 \t MSE 70.20852741699346\tEVS -0.1352470396320664 \n",
            " MAE 7.426010231551244\tMAD 6.863205827147229\t ME 17.03349221753336\n"
          ],
          "name": "stdout"
        }
      ]
    },
    {
      "cell_type": "code",
      "metadata": {
        "colab": {
          "base_uri": "https://localhost:8080/"
        },
        "id": "VQn-QR_HvfTj",
        "outputId": "d0100404-9f77-4cac-eefb-ff1bcca0f42c"
      },
      "source": [
        "from sklearn.tree import DecisionTreeRegressor \n",
        " \n",
        "# — Instantiate a Decision Tree Regressor \n",
        "tree = DecisionTreeRegressor(max_depth=5,min_samples_leaf=5) \n",
        " \n",
        "# — Fit the tree to the training data \n",
        "tree.fit(X_train,y_train)"
      ],
      "execution_count": null,
      "outputs": [
        {
          "output_type": "execute_result",
          "data": {
            "text/plain": [
              "DecisionTreeRegressor(ccp_alpha=0.0, criterion='mse', max_depth=5,\n",
              "                      max_features=None, max_leaf_nodes=None,\n",
              "                      min_impurity_decrease=0.0, min_impurity_split=None,\n",
              "                      min_samples_leaf=5, min_samples_split=2,\n",
              "                      min_weight_fraction_leaf=0.0, presort='deprecated',\n",
              "                      random_state=None, splitter='best')"
            ]
          },
          "metadata": {
            "tags": []
          },
          "execution_count": 110
        }
      ]
    },
    {
      "cell_type": "markdown",
      "metadata": {
        "id": "vWBoBDc-2HEe"
      },
      "source": [
        "#Decision tree regressor"
      ]
    },
    {
      "cell_type": "code",
      "metadata": {
        "id": "a2n_t8D32Bzd"
      },
      "source": [
        "X = train.drop(['order_purchase_timestamp','order_item_id'], axis=1)\n",
        "y = train['order_item_id']\n",
        "X_train, X_test, y_train, y_test = train_test_split(X, y, test_size=0.2, random_state=42)"
      ],
      "execution_count": null,
      "outputs": []
    },
    {
      "cell_type": "code",
      "metadata": {
        "colab": {
          "base_uri": "https://localhost:8080/"
        },
        "id": "wjtrFbH3vk-e",
        "outputId": "f6770279-0100-4289-c93e-d49591b60c08"
      },
      "source": [
        "# Create a prediction based on our model \n",
        "Y_train_pred = tree.predict(X_train) \n",
        " \n",
        "# Compute the Mean Absolute Error of the model \n",
        "import numpy as np\n",
        "MAE_tree = np.mean(abs(y_train - Y_train_pred))/np.mean(y_train) \n",
        " \n",
        "# Print the results \n",
        "print(\"Tree on train set MAE%:\",round(MAE_tree*100,1))"
      ],
      "execution_count": null,
      "outputs": [
        {
          "output_type": "stream",
          "text": [
            "Tree on train set MAE%: 58.1\n"
          ],
          "name": "stdout"
        }
      ]
    },
    {
      "cell_type": "code",
      "metadata": {
        "colab": {
          "base_uri": "https://localhost:8080/"
        },
        "id": "8jbYriV1wamI",
        "outputId": "c5f39382-6a6c-47be-da73-63e234706a8c"
      },
      "source": [
        "predictions = tree.predict(X_test)\n",
        "print(f'Model fit results:\\n'\n",
        "      f'r2_score {r2_score(y_test, predictions)} \\t MSE {mean_squared_error(y_test, predictions)}'\n",
        "      f'\\tEVS {explained_variance_score(y_test, predictions)} \\n MAE {mean_absolute_error(y_test, predictions)}'\n",
        "      f'\\tMAD {median_absolute_error(y_test, predictions)}\\t ME {max_error(y_test, predictions)}')"
      ],
      "execution_count": null,
      "outputs": [
        {
          "output_type": "stream",
          "text": [
            "Model fit results:\n",
            "r2_score 0.008292739577349995 \t MSE 831.02313681028\tEVS 0.012405086364663753 \n",
            " MAE 15.638888888888888\tMAD 10.242857142857142\t ME 93.4\n"
          ],
          "name": "stdout"
        }
      ]
    },
    {
      "cell_type": "markdown",
      "metadata": {
        "id": "Cuv53UJr2cDY"
      },
      "source": [
        "#ARIMA"
      ]
    },
    {
      "cell_type": "code",
      "metadata": {
        "id": "uaH45SVbIUR3"
      },
      "source": [
        "final0=final0.set_index('order_purchase_timestamp')"
      ],
      "execution_count": null,
      "outputs": []
    },
    {
      "cell_type": "code",
      "metadata": {
        "colab": {
          "base_uri": "https://localhost:8080/"
        },
        "id": "hd64wbld0Q7E",
        "outputId": "52550b0a-8c9c-4d19-e60d-09497d7ea13a"
      },
      "source": [
        "p = d = q = range(0, 2)\n",
        "pdq = list(itertools.product(p, d, q))\n",
        "seasonal_pdq = [(x[0], x[1], x[2], 12) for x in list(itertools.product(p, d, q))]\n",
        "print('Examples of parameter combinations for Seasonal ARIMA...')\n",
        "print('SARIMAX: {} x {}'.format(pdq[1], seasonal_pdq[1]))\n",
        "print('SARIMAX: {} x {}'.format(pdq[1], seasonal_pdq[2]))\n",
        "print('SARIMAX: {} x {}'.format(pdq[2], seasonal_pdq[3]))\n",
        "print('SARIMAX: {} x {}'.format(pdq[2], seasonal_pdq[4]))"
      ],
      "execution_count": null,
      "outputs": [
        {
          "output_type": "stream",
          "text": [
            "Examples of parameter combinations for Seasonal ARIMA...\n",
            "SARIMAX: (0, 0, 1) x (0, 0, 1, 12)\n",
            "SARIMAX: (0, 0, 1) x (0, 1, 0, 12)\n",
            "SARIMAX: (0, 1, 0) x (0, 1, 1, 12)\n",
            "SARIMAX: (0, 1, 0) x (1, 0, 0, 12)\n"
          ],
          "name": "stdout"
        }
      ]
    },
    {
      "cell_type": "code",
      "metadata": {
        "colab": {
          "base_uri": "https://localhost:8080/"
        },
        "id": "k0GYbePq3Kab",
        "outputId": "227192e9-0be9-4bda-dbc5-5a914d533a2d"
      },
      "source": [
        "pdq"
      ],
      "execution_count": null,
      "outputs": [
        {
          "output_type": "execute_result",
          "data": {
            "text/plain": [
              "[(0, 0, 0),\n",
              " (0, 0, 1),\n",
              " (0, 1, 0),\n",
              " (0, 1, 1),\n",
              " (1, 0, 0),\n",
              " (1, 0, 1),\n",
              " (1, 1, 0),\n",
              " (1, 1, 1)]"
            ]
          },
          "metadata": {
            "tags": []
          },
          "execution_count": 335
        }
      ]
    },
    {
      "cell_type": "code",
      "metadata": {
        "colab": {
          "base_uri": "https://localhost:8080/"
        },
        "id": "42BmWhor3O68",
        "outputId": "be919b3f-4ed3-4580-eb03-72520c95b363"
      },
      "source": [
        "seasonal_pdq"
      ],
      "execution_count": null,
      "outputs": [
        {
          "output_type": "execute_result",
          "data": {
            "text/plain": [
              "[(0, 0, 0, 12),\n",
              " (0, 0, 1, 12),\n",
              " (0, 1, 0, 12),\n",
              " (0, 1, 1, 12),\n",
              " (1, 0, 0, 12),\n",
              " (1, 0, 1, 12),\n",
              " (1, 1, 0, 12),\n",
              " (1, 1, 1, 12)]"
            ]
          },
          "metadata": {
            "tags": []
          },
          "execution_count": 339
        }
      ]
    },
    {
      "cell_type": "code",
      "metadata": {
        "colab": {
          "base_uri": "https://localhost:8080/"
        },
        "id": "udh3-lmo0pKW",
        "outputId": "f4f8129d-4bc4-42bd-e68e-1cacb4131bb7"
      },
      "source": [
        "for param in pdq:\n",
        "    for param_seasonal in seasonal_pdq:\n",
        "        try:\n",
        "            mod = sm.tsa.statespace.SARIMAX(final0.order_item_id,\n",
        "                                            order=param,\n",
        "                                            seasonal_order=param_seasonal,\n",
        "                                            enforce_stationarity=False,\n",
        "                                            enforce_invertibility=False)\n",
        "            results = mod.fit()\n",
        "            print('ARIMA{}x{}12 - AIC:{}'.format(param, param_seasonal, results.aic))\n",
        "        except:\n",
        "            continue"
      ],
      "execution_count": null,
      "outputs": [
        {
          "output_type": "stream",
          "text": [
            "/usr/local/lib/python3.6/dist-packages/statsmodels/tsa/base/tsa_model.py:165: ValueWarning: No frequency information was provided, so inferred frequency W-MON will be used.\n",
            "  % freq, ValueWarning)\n",
            "/usr/local/lib/python3.6/dist-packages/statsmodels/tsa/base/tsa_model.py:165: ValueWarning: No frequency information was provided, so inferred frequency W-MON will be used.\n",
            "  % freq, ValueWarning)\n",
            "/usr/local/lib/python3.6/dist-packages/statsmodels/tsa/base/tsa_model.py:165: ValueWarning: No frequency information was provided, so inferred frequency W-MON will be used.\n",
            "  % freq, ValueWarning)\n",
            "/usr/local/lib/python3.6/dist-packages/statsmodels/tsa/base/tsa_model.py:165: ValueWarning: No frequency information was provided, so inferred frequency W-MON will be used.\n",
            "  % freq, ValueWarning)\n",
            "/usr/local/lib/python3.6/dist-packages/statsmodels/tsa/base/tsa_model.py:165: ValueWarning: No frequency information was provided, so inferred frequency W-MON will be used.\n",
            "  % freq, ValueWarning)\n",
            "/usr/local/lib/python3.6/dist-packages/statsmodels/tsa/base/tsa_model.py:165: ValueWarning: No frequency information was provided, so inferred frequency W-MON will be used.\n",
            "  % freq, ValueWarning)\n"
          ],
          "name": "stderr"
        },
        {
          "output_type": "stream",
          "text": [
            "ARIMA(0, 0, 0)x(0, 0, 0, 12)12 - AIC:584.6910367366625\n",
            "ARIMA(0, 0, 0)x(0, 0, 1, 12)12 - AIC:485.142490369849\n",
            "ARIMA(0, 0, 0)x(0, 1, 0, 12)12 - AIC:504.75312400464856\n",
            "ARIMA(0, 0, 0)x(0, 1, 1, 12)12 - AIC:379.28365720022833\n",
            "ARIMA(0, 0, 0)x(1, 0, 0, 12)12 - AIC:492.4365300575253\n",
            "ARIMA(0, 0, 0)x(1, 0, 1, 12)12 - AIC:481.7835773452252\n",
            "ARIMA(0, 0, 0)x(1, 1, 0, 12)12 - AIC:400.00465733234074\n",
            "ARIMA(0, 0, 0)x(1, 1, 1, 12)12 - AIC:381.0616815382185\n",
            "ARIMA(0, 0, 1)x(0, 0, 0, 12)12 - AIC:570.5894419815017\n"
          ],
          "name": "stdout"
        },
        {
          "output_type": "stream",
          "text": [
            "/usr/local/lib/python3.6/dist-packages/statsmodels/tsa/base/tsa_model.py:165: ValueWarning: No frequency information was provided, so inferred frequency W-MON will be used.\n",
            "  % freq, ValueWarning)\n",
            "/usr/local/lib/python3.6/dist-packages/statsmodels/tsa/base/tsa_model.py:165: ValueWarning: No frequency information was provided, so inferred frequency W-MON will be used.\n",
            "  % freq, ValueWarning)\n",
            "/usr/local/lib/python3.6/dist-packages/statsmodels/tsa/base/tsa_model.py:165: ValueWarning: No frequency information was provided, so inferred frequency W-MON will be used.\n",
            "  % freq, ValueWarning)\n",
            "/usr/local/lib/python3.6/dist-packages/statsmodels/tsa/base/tsa_model.py:165: ValueWarning: No frequency information was provided, so inferred frequency W-MON will be used.\n",
            "  % freq, ValueWarning)\n"
          ],
          "name": "stderr"
        },
        {
          "output_type": "stream",
          "text": [
            "ARIMA(0, 0, 1)x(0, 0, 1, 12)12 - AIC:474.083276309751\n",
            "ARIMA(0, 0, 1)x(0, 1, 0, 12)12 - AIC:497.297371429081\n",
            "ARIMA(0, 0, 1)x(0, 1, 1, 12)12 - AIC:372.69216761536677\n",
            "ARIMA(0, 0, 1)x(1, 0, 0, 12)12 - AIC:490.5057619555943\n"
          ],
          "name": "stdout"
        },
        {
          "output_type": "stream",
          "text": [
            "/usr/local/lib/python3.6/dist-packages/statsmodels/tsa/base/tsa_model.py:165: ValueWarning: No frequency information was provided, so inferred frequency W-MON will be used.\n",
            "  % freq, ValueWarning)\n",
            "/usr/local/lib/python3.6/dist-packages/statsmodels/tsa/base/tsa_model.py:165: ValueWarning: No frequency information was provided, so inferred frequency W-MON will be used.\n",
            "  % freq, ValueWarning)\n",
            "/usr/local/lib/python3.6/dist-packages/statsmodels/tsa/base/tsa_model.py:165: ValueWarning: No frequency information was provided, so inferred frequency W-MON will be used.\n",
            "  % freq, ValueWarning)\n",
            "/usr/local/lib/python3.6/dist-packages/statsmodels/tsa/base/tsa_model.py:165: ValueWarning: No frequency information was provided, so inferred frequency W-MON will be used.\n",
            "  % freq, ValueWarning)\n"
          ],
          "name": "stderr"
        },
        {
          "output_type": "stream",
          "text": [
            "ARIMA(0, 0, 1)x(1, 0, 1, 12)12 - AIC:475.5224753746959\n",
            "ARIMA(0, 0, 1)x(1, 1, 0, 12)12 - AIC:401.6096297422178\n"
          ],
          "name": "stdout"
        },
        {
          "output_type": "stream",
          "text": [
            "/usr/local/lib/python3.6/dist-packages/statsmodels/tsa/base/tsa_model.py:165: ValueWarning: No frequency information was provided, so inferred frequency W-MON will be used.\n",
            "  % freq, ValueWarning)\n",
            "/usr/local/lib/python3.6/dist-packages/statsmodels/tsa/base/tsa_model.py:165: ValueWarning: No frequency information was provided, so inferred frequency W-MON will be used.\n",
            "  % freq, ValueWarning)\n"
          ],
          "name": "stderr"
        },
        {
          "output_type": "stream",
          "text": [
            "ARIMA(0, 0, 1)x(1, 1, 1, 12)12 - AIC:374.6662258155981\n",
            "ARIMA(0, 1, 0)x(0, 0, 0, 12)12 - AIC:587.7817228982244\n",
            "ARIMA(0, 1, 0)x(0, 0, 1, 12)12 - AIC:489.1016409057883\n",
            "ARIMA(0, 1, 0)x(0, 1, 0, 12)12 - AIC:525.1145701737054\n",
            "ARIMA(0, 1, 0)x(0, 1, 1, 12)12 - AIC:393.3159828134257\n",
            "ARIMA(0, 1, 0)x(1, 0, 0, 12)12 - AIC:497.4626407650983\n",
            "ARIMA(0, 1, 0)x(1, 0, 1, 12)12 - AIC:491.0871196515832\n"
          ],
          "name": "stdout"
        },
        {
          "output_type": "stream",
          "text": [
            "/usr/local/lib/python3.6/dist-packages/statsmodels/tsa/base/tsa_model.py:165: ValueWarning: No frequency information was provided, so inferred frequency W-MON will be used.\n",
            "  % freq, ValueWarning)\n",
            "/usr/local/lib/python3.6/dist-packages/statsmodels/tsa/base/tsa_model.py:165: ValueWarning: No frequency information was provided, so inferred frequency W-MON will be used.\n",
            "  % freq, ValueWarning)\n",
            "/usr/local/lib/python3.6/dist-packages/statsmodels/tsa/base/tsa_model.py:165: ValueWarning: No frequency information was provided, so inferred frequency W-MON will be used.\n",
            "  % freq, ValueWarning)\n",
            "/usr/local/lib/python3.6/dist-packages/statsmodels/tsa/base/tsa_model.py:165: ValueWarning: No frequency information was provided, so inferred frequency W-MON will be used.\n",
            "  % freq, ValueWarning)\n",
            "/usr/local/lib/python3.6/dist-packages/statsmodels/tsa/base/tsa_model.py:165: ValueWarning: No frequency information was provided, so inferred frequency W-MON will be used.\n",
            "  % freq, ValueWarning)\n",
            "/usr/local/lib/python3.6/dist-packages/statsmodels/tsa/base/tsa_model.py:165: ValueWarning: No frequency information was provided, so inferred frequency W-MON will be used.\n",
            "  % freq, ValueWarning)\n",
            "/usr/local/lib/python3.6/dist-packages/statsmodels/tsa/base/tsa_model.py:165: ValueWarning: No frequency information was provided, so inferred frequency W-MON will be used.\n",
            "  % freq, ValueWarning)\n"
          ],
          "name": "stderr"
        },
        {
          "output_type": "stream",
          "text": [
            "ARIMA(0, 1, 0)x(1, 1, 0, 12)12 - AIC:415.4053729236375\n"
          ],
          "name": "stdout"
        },
        {
          "output_type": "stream",
          "text": [
            "/usr/local/lib/python3.6/dist-packages/statsmodels/tsa/base/tsa_model.py:165: ValueWarning: No frequency information was provided, so inferred frequency W-MON will be used.\n",
            "  % freq, ValueWarning)\n"
          ],
          "name": "stderr"
        },
        {
          "output_type": "stream",
          "text": [
            "ARIMA(0, 1, 0)x(1, 1, 1, 12)12 - AIC:395.3002680389554\n",
            "ARIMA(0, 1, 1)x(0, 0, 0, 12)12 - AIC:547.538304543323\n",
            "ARIMA(0, 1, 1)x(0, 0, 1, 12)12 - AIC:453.60702856421574\n",
            "ARIMA(0, 1, 1)x(0, 1, 0, 12)12 - AIC:490.40986927410836\n"
          ],
          "name": "stdout"
        },
        {
          "output_type": "stream",
          "text": [
            "/usr/local/lib/python3.6/dist-packages/statsmodels/tsa/base/tsa_model.py:165: ValueWarning: No frequency information was provided, so inferred frequency W-MON will be used.\n",
            "  % freq, ValueWarning)\n",
            "/usr/local/lib/python3.6/dist-packages/statsmodels/tsa/base/tsa_model.py:165: ValueWarning: No frequency information was provided, so inferred frequency W-MON will be used.\n",
            "  % freq, ValueWarning)\n",
            "/usr/local/lib/python3.6/dist-packages/statsmodels/tsa/base/tsa_model.py:165: ValueWarning: No frequency information was provided, so inferred frequency W-MON will be used.\n",
            "  % freq, ValueWarning)\n",
            "/usr/local/lib/python3.6/dist-packages/statsmodels/tsa/base/tsa_model.py:165: ValueWarning: No frequency information was provided, so inferred frequency W-MON will be used.\n",
            "  % freq, ValueWarning)\n"
          ],
          "name": "stderr"
        },
        {
          "output_type": "stream",
          "text": [
            "ARIMA(0, 1, 1)x(0, 1, 1, 12)12 - AIC:365.4390418630287\n",
            "ARIMA(0, 1, 1)x(1, 0, 0, 12)12 - AIC:469.54489063840305\n",
            "ARIMA(0, 1, 1)x(1, 0, 1, 12)12 - AIC:455.6056817142882\n"
          ],
          "name": "stdout"
        },
        {
          "output_type": "stream",
          "text": [
            "/usr/local/lib/python3.6/dist-packages/statsmodels/tsa/base/tsa_model.py:165: ValueWarning: No frequency information was provided, so inferred frequency W-MON will be used.\n",
            "  % freq, ValueWarning)\n",
            "/usr/local/lib/python3.6/dist-packages/statsmodels/tsa/base/tsa_model.py:165: ValueWarning: No frequency information was provided, so inferred frequency W-MON will be used.\n",
            "  % freq, ValueWarning)\n",
            "/usr/local/lib/python3.6/dist-packages/statsmodels/tsa/base/tsa_model.py:165: ValueWarning: No frequency information was provided, so inferred frequency W-MON will be used.\n",
            "  % freq, ValueWarning)\n"
          ],
          "name": "stderr"
        },
        {
          "output_type": "stream",
          "text": [
            "ARIMA(0, 1, 1)x(1, 1, 0, 12)12 - AIC:394.79795596845383\n"
          ],
          "name": "stdout"
        },
        {
          "output_type": "stream",
          "text": [
            "/usr/local/lib/python3.6/dist-packages/statsmodels/tsa/base/tsa_model.py:165: ValueWarning: No frequency information was provided, so inferred frequency W-MON will be used.\n",
            "  % freq, ValueWarning)\n"
          ],
          "name": "stderr"
        },
        {
          "output_type": "stream",
          "text": [
            "ARIMA(0, 1, 1)x(1, 1, 1, 12)12 - AIC:368.5660567901322\n",
            "ARIMA(1, 0, 0)x(0, 0, 0, 12)12 - AIC:575.0064724508728\n",
            "ARIMA(1, 0, 0)x(0, 0, 1, 12)12 - AIC:480.111032145831\n",
            "ARIMA(1, 0, 0)x(0, 1, 0, 12)12 - AIC:505.88385810701186\n",
            "ARIMA(1, 0, 0)x(0, 1, 1, 12)12 - AIC:380.6645275858828\n"
          ],
          "name": "stdout"
        },
        {
          "output_type": "stream",
          "text": [
            "/usr/local/lib/python3.6/dist-packages/statsmodels/tsa/base/tsa_model.py:165: ValueWarning: No frequency information was provided, so inferred frequency W-MON will be used.\n",
            "  % freq, ValueWarning)\n",
            "/usr/local/lib/python3.6/dist-packages/statsmodels/tsa/base/tsa_model.py:165: ValueWarning: No frequency information was provided, so inferred frequency W-MON will be used.\n",
            "  % freq, ValueWarning)\n",
            "/usr/local/lib/python3.6/dist-packages/statsmodels/tsa/base/tsa_model.py:165: ValueWarning: No frequency information was provided, so inferred frequency W-MON will be used.\n",
            "  % freq, ValueWarning)\n",
            "/usr/local/lib/python3.6/dist-packages/statsmodels/tsa/base/tsa_model.py:165: ValueWarning: No frequency information was provided, so inferred frequency W-MON will be used.\n",
            "  % freq, ValueWarning)\n",
            "/usr/local/lib/python3.6/dist-packages/statsmodels/tsa/base/tsa_model.py:165: ValueWarning: No frequency information was provided, so inferred frequency W-MON will be used.\n",
            "  % freq, ValueWarning)\n"
          ],
          "name": "stderr"
        },
        {
          "output_type": "stream",
          "text": [
            "ARIMA(1, 0, 0)x(1, 0, 0, 12)12 - AIC:479.9665662828814\n",
            "ARIMA(1, 0, 0)x(1, 0, 1, 12)12 - AIC:481.9659672612171\n",
            "ARIMA(1, 0, 0)x(1, 1, 0, 12)12 - AIC:393.1399812800927\n"
          ],
          "name": "stdout"
        },
        {
          "output_type": "stream",
          "text": [
            "/usr/local/lib/python3.6/dist-packages/statsmodels/tsa/base/tsa_model.py:165: ValueWarning: No frequency information was provided, so inferred frequency W-MON will be used.\n",
            "  % freq, ValueWarning)\n",
            "/usr/local/lib/python3.6/dist-packages/statsmodels/tsa/base/tsa_model.py:165: ValueWarning: No frequency information was provided, so inferred frequency W-MON will be used.\n",
            "  % freq, ValueWarning)\n",
            "/usr/local/lib/python3.6/dist-packages/statsmodels/tsa/base/tsa_model.py:165: ValueWarning: No frequency information was provided, so inferred frequency W-MON will be used.\n",
            "  % freq, ValueWarning)\n"
          ],
          "name": "stderr"
        },
        {
          "output_type": "stream",
          "text": [
            "ARIMA(1, 0, 0)x(1, 1, 1, 12)12 - AIC:382.6454404955613\n",
            "ARIMA(1, 0, 1)x(0, 0, 0, 12)12 - AIC:556.8622139960372\n"
          ],
          "name": "stdout"
        },
        {
          "output_type": "stream",
          "text": [
            "/usr/local/lib/python3.6/dist-packages/statsmodels/tsa/base/tsa_model.py:165: ValueWarning: No frequency information was provided, so inferred frequency W-MON will be used.\n",
            "  % freq, ValueWarning)\n",
            "/usr/local/lib/python3.6/dist-packages/statsmodels/tsa/base/tsa_model.py:165: ValueWarning: No frequency information was provided, so inferred frequency W-MON will be used.\n",
            "  % freq, ValueWarning)\n"
          ],
          "name": "stderr"
        },
        {
          "output_type": "stream",
          "text": [
            "ARIMA(1, 0, 1)x(0, 0, 1, 12)12 - AIC:461.62222129287767\n",
            "ARIMA(1, 0, 1)x(0, 1, 0, 12)12 - AIC:497.3452438914456\n"
          ],
          "name": "stdout"
        },
        {
          "output_type": "stream",
          "text": [
            "/usr/local/lib/python3.6/dist-packages/statsmodels/tsa/base/tsa_model.py:165: ValueWarning: No frequency information was provided, so inferred frequency W-MON will be used.\n",
            "  % freq, ValueWarning)\n",
            "/usr/local/lib/python3.6/dist-packages/statsmodels/tsa/base/tsa_model.py:165: ValueWarning: No frequency information was provided, so inferred frequency W-MON will be used.\n",
            "  % freq, ValueWarning)\n"
          ],
          "name": "stderr"
        },
        {
          "output_type": "stream",
          "text": [
            "ARIMA(1, 0, 1)x(0, 1, 1, 12)12 - AIC:372.5595372290819\n",
            "ARIMA(1, 0, 1)x(1, 0, 0, 12)12 - AIC:469.9372163414162\n"
          ],
          "name": "stdout"
        },
        {
          "output_type": "stream",
          "text": [
            "/usr/local/lib/python3.6/dist-packages/statsmodels/tsa/base/tsa_model.py:165: ValueWarning: No frequency information was provided, so inferred frequency W-MON will be used.\n",
            "  % freq, ValueWarning)\n",
            "/usr/local/lib/python3.6/dist-packages/statsmodels/tsa/base/tsa_model.py:165: ValueWarning: No frequency information was provided, so inferred frequency W-MON will be used.\n",
            "  % freq, ValueWarning)\n"
          ],
          "name": "stderr"
        },
        {
          "output_type": "stream",
          "text": [
            "ARIMA(1, 0, 1)x(1, 0, 1, 12)12 - AIC:461.97795165727354\n"
          ],
          "name": "stdout"
        },
        {
          "output_type": "stream",
          "text": [
            "/usr/local/lib/python3.6/dist-packages/statsmodels/tsa/base/tsa_model.py:165: ValueWarning: No frequency information was provided, so inferred frequency W-MON will be used.\n",
            "  % freq, ValueWarning)\n"
          ],
          "name": "stderr"
        },
        {
          "output_type": "stream",
          "text": [
            "ARIMA(1, 0, 1)x(1, 1, 0, 12)12 - AIC:393.57257852655596\n"
          ],
          "name": "stdout"
        },
        {
          "output_type": "stream",
          "text": [
            "/usr/local/lib/python3.6/dist-packages/statsmodels/tsa/base/tsa_model.py:165: ValueWarning: No frequency information was provided, so inferred frequency W-MON will be used.\n",
            "  % freq, ValueWarning)\n"
          ],
          "name": "stderr"
        },
        {
          "output_type": "stream",
          "text": [
            "ARIMA(1, 0, 1)x(1, 1, 1, 12)12 - AIC:373.7087101032963\n",
            "ARIMA(1, 1, 0)x(0, 0, 0, 12)12 - AIC:572.163726538537\n",
            "ARIMA(1, 1, 0)x(0, 0, 1, 12)12 - AIC:476.60612693525314\n",
            "ARIMA(1, 1, 0)x(0, 1, 0, 12)12 - AIC:513.1455376333098\n"
          ],
          "name": "stdout"
        },
        {
          "output_type": "stream",
          "text": [
            "/usr/local/lib/python3.6/dist-packages/statsmodels/tsa/base/tsa_model.py:165: ValueWarning: No frequency information was provided, so inferred frequency W-MON will be used.\n",
            "  % freq, ValueWarning)\n",
            "/usr/local/lib/python3.6/dist-packages/statsmodels/tsa/base/tsa_model.py:165: ValueWarning: No frequency information was provided, so inferred frequency W-MON will be used.\n",
            "  % freq, ValueWarning)\n",
            "/usr/local/lib/python3.6/dist-packages/statsmodels/tsa/base/tsa_model.py:165: ValueWarning: No frequency information was provided, so inferred frequency W-MON will be used.\n",
            "  % freq, ValueWarning)\n",
            "/usr/local/lib/python3.6/dist-packages/statsmodels/tsa/base/tsa_model.py:165: ValueWarning: No frequency information was provided, so inferred frequency W-MON will be used.\n",
            "  % freq, ValueWarning)\n"
          ],
          "name": "stderr"
        },
        {
          "output_type": "stream",
          "text": [
            "ARIMA(1, 1, 0)x(0, 1, 1, 12)12 - AIC:384.97722886543545\n",
            "ARIMA(1, 1, 0)x(1, 0, 0, 12)12 - AIC:476.6893265994971\n",
            "ARIMA(1, 1, 0)x(1, 0, 1, 12)12 - AIC:478.60424954610903\n",
            "ARIMA(1, 1, 0)x(1, 1, 0, 12)12 - AIC:397.4618654002419\n"
          ],
          "name": "stdout"
        },
        {
          "output_type": "stream",
          "text": [
            "/usr/local/lib/python3.6/dist-packages/statsmodels/tsa/base/tsa_model.py:165: ValueWarning: No frequency information was provided, so inferred frequency W-MON will be used.\n",
            "  % freq, ValueWarning)\n",
            "/usr/local/lib/python3.6/dist-packages/statsmodels/tsa/base/tsa_model.py:165: ValueWarning: No frequency information was provided, so inferred frequency W-MON will be used.\n",
            "  % freq, ValueWarning)\n",
            "/usr/local/lib/python3.6/dist-packages/statsmodels/tsa/base/tsa_model.py:165: ValueWarning: No frequency information was provided, so inferred frequency W-MON will be used.\n",
            "  % freq, ValueWarning)\n",
            "/usr/local/lib/python3.6/dist-packages/statsmodels/tsa/base/tsa_model.py:165: ValueWarning: No frequency information was provided, so inferred frequency W-MON will be used.\n",
            "  % freq, ValueWarning)\n"
          ],
          "name": "stderr"
        },
        {
          "output_type": "stream",
          "text": [
            "ARIMA(1, 1, 0)x(1, 1, 1, 12)12 - AIC:386.96151545865706\n",
            "ARIMA(1, 1, 1)x(0, 0, 0, 12)12 - AIC:549.5060355077458\n",
            "ARIMA(1, 1, 1)x(0, 0, 1, 12)12 - AIC:455.5977889556007\n",
            "ARIMA(1, 1, 1)x(0, 1, 0, 12)12 - AIC:492.3303543380657\n"
          ],
          "name": "stdout"
        },
        {
          "output_type": "stream",
          "text": [
            "/usr/local/lib/python3.6/dist-packages/statsmodels/tsa/base/tsa_model.py:165: ValueWarning: No frequency information was provided, so inferred frequency W-MON will be used.\n",
            "  % freq, ValueWarning)\n",
            "/usr/local/lib/python3.6/dist-packages/statsmodels/tsa/base/tsa_model.py:165: ValueWarning: No frequency information was provided, so inferred frequency W-MON will be used.\n",
            "  % freq, ValueWarning)\n",
            "/usr/local/lib/python3.6/dist-packages/statsmodels/tsa/base/tsa_model.py:165: ValueWarning: No frequency information was provided, so inferred frequency W-MON will be used.\n",
            "  % freq, ValueWarning)\n",
            "/usr/local/lib/python3.6/dist-packages/statsmodels/tsa/base/tsa_model.py:165: ValueWarning: No frequency information was provided, so inferred frequency W-MON will be used.\n",
            "  % freq, ValueWarning)\n"
          ],
          "name": "stderr"
        },
        {
          "output_type": "stream",
          "text": [
            "ARIMA(1, 1, 1)x(0, 1, 1, 12)12 - AIC:367.33806411705706\n",
            "ARIMA(1, 1, 1)x(1, 0, 0, 12)12 - AIC:463.4705308321779\n"
          ],
          "name": "stdout"
        },
        {
          "output_type": "stream",
          "text": [
            "/usr/local/lib/python3.6/dist-packages/statsmodels/tsa/base/tsa_model.py:165: ValueWarning: No frequency information was provided, so inferred frequency W-MON will be used.\n",
            "  % freq, ValueWarning)\n",
            "/usr/local/lib/python3.6/dist-packages/statsmodels/tsa/base/tsa_model.py:165: ValueWarning: No frequency information was provided, so inferred frequency W-MON will be used.\n",
            "  % freq, ValueWarning)\n",
            "/usr/local/lib/python3.6/dist-packages/statsmodels/tsa/base/tsa_model.py:165: ValueWarning: No frequency information was provided, so inferred frequency W-MON will be used.\n",
            "  % freq, ValueWarning)\n"
          ],
          "name": "stderr"
        },
        {
          "output_type": "stream",
          "text": [
            "ARIMA(1, 1, 1)x(1, 0, 1, 12)12 - AIC:457.59524885280285\n",
            "ARIMA(1, 1, 1)x(1, 1, 0, 12)12 - AIC:387.7145089031356\n"
          ],
          "name": "stdout"
        },
        {
          "output_type": "stream",
          "text": [
            "/usr/local/lib/python3.6/dist-packages/statsmodels/tsa/base/tsa_model.py:165: ValueWarning: No frequency information was provided, so inferred frequency W-MON will be used.\n",
            "  % freq, ValueWarning)\n"
          ],
          "name": "stderr"
        },
        {
          "output_type": "stream",
          "text": [
            "ARIMA(1, 1, 1)x(1, 1, 1, 12)12 - AIC:369.01350493025063\n"
          ],
          "name": "stdout"
        }
      ]
    },
    {
      "cell_type": "code",
      "metadata": {
        "colab": {
          "base_uri": "https://localhost:8080/"
        },
        "id": "2uyE1wpU45V0",
        "outputId": "2bee13fc-145a-49c5-fcb4-ce7acbe9a3e7"
      },
      "source": [
        "mod = sm.tsa.statespace.SARIMAX(final0,\n",
        "                                order=(0, 1, 1),\n",
        "                                seasonal_order=(0, 1, 1, 12),\n",
        "                                enforce_stationarity=False,\n",
        "                                enforce_invertibility=False)\n",
        "results = mod.fit()\n",
        "print(results.summary().tables[1])"
      ],
      "execution_count": null,
      "outputs": [
        {
          "output_type": "stream",
          "text": [
            "==============================================================================\n",
            "                 coef    std err          z      P>|z|      [0.025      0.975]\n",
            "------------------------------------------------------------------------------\n",
            "ma.L1         -0.8190      0.154     -5.311      0.000      -1.121      -0.517\n",
            "ma.S.L12      -1.0000      0.160     -6.245      0.000      -1.314      -0.686\n",
            "sigma2       438.3431      0.000    1.2e+06      0.000     438.342     438.344\n",
            "==============================================================================\n"
          ],
          "name": "stdout"
        },
        {
          "output_type": "stream",
          "text": [
            "/usr/local/lib/python3.6/dist-packages/statsmodels/tsa/base/tsa_model.py:165: ValueWarning: No frequency information was provided, so inferred frequency W-MON will be used.\n",
            "  % freq, ValueWarning)\n"
          ],
          "name": "stderr"
        }
      ]
    },
    {
      "cell_type": "code",
      "metadata": {
        "colab": {
          "base_uri": "https://localhost:8080/",
          "height": 513
        },
        "id": "LUmj_gRn5Ztv",
        "outputId": "7e433331-5321-4e50-e5a6-1b0f03756256"
      },
      "source": [
        "results.plot_diagnostics(figsize=(16, 8))\n",
        "plt.show()"
      ],
      "execution_count": null,
      "outputs": [
        {
          "output_type": "display_data",
          "data": {
            "image/png": "[encoded data removed]",
            "text/plain": [
              "<Figure size 1152x576 with 4 Axes>"
            ]
          },
          "metadata": {
            "tags": [],
            "needs_background": "light"
          }
        }
      ]
    },
    {
      "cell_type": "code",
      "metadata": {
        "colab": {
          "base_uri": "https://localhost:8080/",
          "height": 551
        },
        "id": "Szf7HbSuJmwz",
        "outputId": "c1fc7083-f2a4-4f9d-bcd4-038c2139a6d1"
      },
      "source": [
        "final0.tail(15)"
      ],
      "execution_count": null,
      "outputs": [
        {
          "output_type": "execute_result",
          "data": {
            "text/html": [
              "<div>\n",
              "<style scoped>\n",
              "    .dataframe tbody tr th:only-of-type {\n",
              "        vertical-align: middle;\n",
              "    }\n",
              "\n",
              "    .dataframe tbody tr th {\n",
              "        vertical-align: top;\n",
              "    }\n",
              "\n",
              "    .dataframe thead th {\n",
              "        text-align: right;\n",
              "    }\n",
              "</style>\n",
              "<table border=\"1\" class=\"dataframe\">\n",
              "  <thead>\n",
              "    <tr style=\"text-align: right;\">\n",
              "      <th></th>\n",
              "      <th>order_item_id</th>\n",
              "    </tr>\n",
              "    <tr>\n",
              "      <th>order_purchase_timestamp</th>\n",
              "      <th></th>\n",
              "    </tr>\n",
              "  </thead>\n",
              "  <tbody>\n",
              "    <tr>\n",
              "      <th>2018-04-16</th>\n",
              "      <td>4</td>\n",
              "    </tr>\n",
              "    <tr>\n",
              "      <th>2018-04-23</th>\n",
              "      <td>34</td>\n",
              "    </tr>\n",
              "    <tr>\n",
              "      <th>2018-04-30</th>\n",
              "      <td>24</td>\n",
              "    </tr>\n",
              "    <tr>\n",
              "      <th>2018-05-07</th>\n",
              "      <td>2</td>\n",
              "    </tr>\n",
              "    <tr>\n",
              "      <th>2018-05-14</th>\n",
              "      <td>3</td>\n",
              "    </tr>\n",
              "    <tr>\n",
              "      <th>2018-05-21</th>\n",
              "      <td>1</td>\n",
              "    </tr>\n",
              "    <tr>\n",
              "      <th>2018-05-28</th>\n",
              "      <td>0</td>\n",
              "    </tr>\n",
              "    <tr>\n",
              "      <th>2018-06-04</th>\n",
              "      <td>24</td>\n",
              "    </tr>\n",
              "    <tr>\n",
              "      <th>2018-06-11</th>\n",
              "      <td>0</td>\n",
              "    </tr>\n",
              "    <tr>\n",
              "      <th>2018-06-18</th>\n",
              "      <td>3</td>\n",
              "    </tr>\n",
              "    <tr>\n",
              "      <th>2018-06-25</th>\n",
              "      <td>1</td>\n",
              "    </tr>\n",
              "    <tr>\n",
              "      <th>2018-07-02</th>\n",
              "      <td>2</td>\n",
              "    </tr>\n",
              "    <tr>\n",
              "      <th>2018-07-09</th>\n",
              "      <td>8</td>\n",
              "    </tr>\n",
              "    <tr>\n",
              "      <th>2018-07-16</th>\n",
              "      <td>1</td>\n",
              "    </tr>\n",
              "    <tr>\n",
              "      <th>2018-07-23</th>\n",
              "      <td>1</td>\n",
              "    </tr>\n",
              "  </tbody>\n",
              "</table>\n",
              "</div>"
            ],
            "text/plain": [
              "                          order_item_id\n",
              "order_purchase_timestamp               \n",
              "2018-04-16                            4\n",
              "2018-04-23                           34\n",
              "2018-04-30                           24\n",
              "2018-05-07                            2\n",
              "2018-05-14                            3\n",
              "2018-05-21                            1\n",
              "2018-05-28                            0\n",
              "2018-06-04                           24\n",
              "2018-06-11                            0\n",
              "2018-06-18                            3\n",
              "2018-06-25                            1\n",
              "2018-07-02                            2\n",
              "2018-07-09                            8\n",
              "2018-07-16                            1\n",
              "2018-07-23                            1"
            ]
          },
          "metadata": {
            "tags": []
          },
          "execution_count": 327
        }
      ]
    },
    {
      "cell_type": "code",
      "metadata": {
        "colab": {
          "base_uri": "https://localhost:8080/",
          "height": 454
        },
        "id": "DLB-O5eV6cuI",
        "outputId": "d276beec-3751-4220-d170-eea611c78f65"
      },
      "source": [
        "pred = results.get_prediction(start=pd.to_datetime('2018-07-09'), dynamic=False)\n",
        "pred_ci = pred.conf_int()\n",
        "ax = final0['2018':].plot(label='observed')\n",
        "pred.predicted_mean.plot(ax=ax, label='One-step ahead Forecast', alpha=.7, figsize=(14, 7))\n",
        "ax.fill_between(pred_ci.index,\n",
        "                pred_ci.iloc[:, 0],\n",
        "                pred_ci.iloc[:, 1], color='k', alpha=.2)\n",
        "ax.set_xlabel('Date')\n",
        "ax.set_ylabel('Furniture Sales')\n",
        "plt.legend()\n",
        "plt.show()"
      ],
      "execution_count": null,
      "outputs": [
        {
          "output_type": "display_data",
          "data": {
            "image/png": "[encoded data removed]",
            "text/plain": [
              "<Figure size 1008x504 with 1 Axes>"
            ]
          },
          "metadata": {
            "tags": [],
            "needs_background": "light"
          }
        }
      ]
    },
    {
      "cell_type": "code",
      "metadata": {
        "id": "OpgGszFiA110"
      },
      "source": [
        "y_forecasted = pd.DataFrame(pred.predicted_mean)\n",
        "y_truth = pd.DataFrame(final0['2018-07-09':])"
      ],
      "execution_count": null,
      "outputs": []
    },
    {
      "cell_type": "code",
      "metadata": {
        "id": "AxjfsqzAEuJG"
      },
      "source": [
        "y_forecasted.columns= ['order_item_id']"
      ],
      "execution_count": null,
      "outputs": []
    },
    {
      "cell_type": "code",
      "metadata": {
        "colab": {
          "base_uri": "https://localhost:8080/"
        },
        "id": "TA35JoouD2bd",
        "outputId": "5d083716-cdda-475e-bb96-0c1e86444f8a"
      },
      "source": [
        "print(y_forecasted)\n",
        "print(y_truth)"
      ],
      "execution_count": null,
      "outputs": [
        {
          "output_type": "stream",
          "text": [
            "            order_item_id\n",
            "2018-07-09      19.787449\n",
            "2018-07-16       5.582118\n",
            "2018-07-23       5.533816\n",
            "                          order_item_id\n",
            "order_purchase_timestamp               \n",
            "2018-07-09                            8\n",
            "2018-07-16                            1\n",
            "2018-07-23                            1\n"
          ],
          "name": "stdout"
        }
      ]
    },
    {
      "cell_type": "code",
      "metadata": {
        "colab": {
          "base_uri": "https://localhost:8080/",
          "height": 143
        },
        "id": "v6Vh_C5AGjCj",
        "outputId": "556162d8-478e-4c1d-a824-f8152f23a3c3"
      },
      "source": [
        "y_forecasted.subtract(y_truth)"
      ],
      "execution_count": null,
      "outputs": [
        {
          "output_type": "execute_result",
          "data": {
            "text/html": [
              "<div>\n",
              "<style scoped>\n",
              "    .dataframe tbody tr th:only-of-type {\n",
              "        vertical-align: middle;\n",
              "    }\n",
              "\n",
              "    .dataframe tbody tr th {\n",
              "        vertical-align: top;\n",
              "    }\n",
              "\n",
              "    .dataframe thead th {\n",
              "        text-align: right;\n",
              "    }\n",
              "</style>\n",
              "<table border=\"1\" class=\"dataframe\">\n",
              "  <thead>\n",
              "    <tr style=\"text-align: right;\">\n",
              "      <th></th>\n",
              "      <th>order_item_id</th>\n",
              "    </tr>\n",
              "  </thead>\n",
              "  <tbody>\n",
              "    <tr>\n",
              "      <th>2018-07-09</th>\n",
              "      <td>11.787449</td>\n",
              "    </tr>\n",
              "    <tr>\n",
              "      <th>2018-07-16</th>\n",
              "      <td>4.582118</td>\n",
              "    </tr>\n",
              "    <tr>\n",
              "      <th>2018-07-23</th>\n",
              "      <td>4.533816</td>\n",
              "    </tr>\n",
              "  </tbody>\n",
              "</table>\n",
              "</div>"
            ],
            "text/plain": [
              "            order_item_id\n",
              "2018-07-09      11.787449\n",
              "2018-07-16       4.582118\n",
              "2018-07-23       4.533816"
            ]
          },
          "metadata": {
            "tags": []
          },
          "execution_count": 317
        }
      ]
    },
    {
      "cell_type": "code",
      "metadata": {
        "colab": {
          "base_uri": "https://localhost:8080/"
        },
        "id": "H3EwNjywDmB8",
        "outputId": "de978a55-969b-45f7-83ed-29d12ec6868a"
      },
      "source": [
        "mse = ((y_forecasted.subtract(y_truth)) ** 2).mean()\n",
        "print('The Mean Squared Error of our forecasts is {}\\n'.format(round(mse, 2)))"
      ],
      "execution_count": null,
      "outputs": [
        {
          "output_type": "stream",
          "text": [
            "The Mean Squared Error of our forecasts is order_item_id    60.17\n",
            "dtype: float64\n",
            "\n"
          ],
          "name": "stdout"
        }
      ]
    },
    {
      "cell_type": "code",
      "metadata": {
        "colab": {
          "base_uri": "https://localhost:8080/"
        },
        "id": "HTxF8qaLG5Ti",
        "outputId": "b7b53805-8e1d-4897-a3b3-ef4ef4496812"
      },
      "source": [
        "rmse=mse**0.5\n",
        "rmse"
      ],
      "execution_count": null,
      "outputs": [
        {
          "output_type": "execute_result",
          "data": {
            "text/plain": [
              "order_item_id    7.756615\n",
              "dtype: float64"
            ]
          },
          "metadata": {
            "tags": []
          },
          "execution_count": 319
        }
      ]
    },
    {
      "cell_type": "code",
      "metadata": {
        "colab": {
          "base_uri": "https://localhost:8080/"
        },
        "id": "tJOYbwycMLJF",
        "outputId": "35c53c41-01cf-4e79-91ed-a559aeb0d2c0"
      },
      "source": [
        "final0.mean()"
      ],
      "execution_count": null,
      "outputs": [
        {
          "output_type": "execute_result",
          "data": {
            "text/plain": [
              "order_item_id    11.969697\n",
              "dtype: float64"
            ]
          },
          "metadata": {
            "tags": []
          },
          "execution_count": 304
        }
      ]
    }
  ]
}